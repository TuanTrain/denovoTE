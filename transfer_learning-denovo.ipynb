{
 "cells": [
  {
   "cell_type": "markdown",
   "metadata": {
    "id": "77gENRVX40S7"
   },
   "source": [
    "##### Copyright 2019 The TensorFlow Authors."
   ]
  },
  {
   "cell_type": "code",
   "execution_count": 37,
   "metadata": {
    "cellView": "form",
    "execution": {
     "iopub.execute_input": "2021-06-16T19:27:39.396067Z",
     "iopub.status.busy": "2021-06-16T19:27:39.395488Z",
     "iopub.status.idle": "2021-06-16T19:27:39.397250Z",
     "shell.execute_reply": "2021-06-16T19:27:39.397586Z"
    },
    "id": "d8jyt37T42Vf"
   },
   "outputs": [],
   "source": [
    "#@title Licensed under the Apache License, Version 2.0 (the \"License\");\n",
    "# you may not use this file except in compliance with the License.\n",
    "# You may obtain a copy of the License at\n",
    "#\n",
    "# https://www.apache.org/licenses/LICENSE-2.0\n",
    "#\n",
    "# Unless required by applicable law or agreed to in writing, software\n",
    "# distributed under the License is distributed on an \"AS IS\" BASIS,\n",
    "# WITHOUT WARRANTIES OR CONDITIONS OF ANY KIND, either express or implied.\n",
    "# See the License for the specific language governing permissions and\n",
    "# limitations under the License."
   ]
  },
  {
   "cell_type": "code",
   "execution_count": 38,
   "metadata": {
    "cellView": "form",
    "execution": {
     "iopub.execute_input": "2021-06-16T19:27:39.401025Z",
     "iopub.status.busy": "2021-06-16T19:27:39.400444Z",
     "iopub.status.idle": "2021-06-16T19:27:39.402278Z",
     "shell.execute_reply": "2021-06-16T19:27:39.402601Z"
    },
    "id": "aPxHdjwW5P2j"
   },
   "outputs": [],
   "source": [
    "#@title MIT License\n",
    "#\n",
    "# Copyright (c) 2017 François Chollet                                                                                                                    # IGNORE_COPYRIGHT: cleared by OSS licensing\n",
    "#\n",
    "# Permission is hereby granted, free of charge, to any person obtaining a\n",
    "# copy of this software and associated documentation files (the \"Software\"),\n",
    "# to deal in the Software without restriction, including without limitation\n",
    "# the rights to use, copy, modify, merge, publish, distribute, sublicense,\n",
    "# and/or sell copies of the Software, and to permit persons to whom the\n",
    "# Software is furnished to do so, subject to the following conditions:\n",
    "#\n",
    "# The above copyright notice and this permission notice shall be included in\n",
    "# all copies or substantial portions of the Software.\n",
    "#\n",
    "# THE SOFTWARE IS PROVIDED \"AS IS\", WITHOUT WARRANTY OF ANY KIND, EXPRESS OR\n",
    "# IMPLIED, INCLUDING BUT NOT LIMITED TO THE WARRANTIES OF MERCHANTABILITY,\n",
    "# FITNESS FOR A PARTICULAR PURPOSE AND NONINFRINGEMENT. IN NO EVENT SHALL\n",
    "# THE AUTHORS OR COPYRIGHT HOLDERS BE LIABLE FOR ANY CLAIM, DAMAGES OR OTHER\n",
    "# LIABILITY, WHETHER IN AN ACTION OF CONTRACT, TORT OR OTHERWISE, ARISING\n",
    "# FROM, OUT OF OR IN CONNECTION WITH THE SOFTWARE OR THE USE OR OTHER\n",
    "# DEALINGS IN THE SOFTWARE."
   ]
  },
  {
   "cell_type": "markdown",
   "metadata": {
    "id": "hRTa3Ee15WsJ"
   },
   "source": [
    "# Transfer learning and fine-tuning"
   ]
  },
  {
   "cell_type": "markdown",
   "metadata": {
    "id": "dQHMcypT3vDT"
   },
   "source": [
    "<table class=\"tfo-notebook-buttons\" align=\"left\">\n",
    "  <td>\n",
    "    <a target=\"_blank\" href=\"https://www.tensorflow.org/tutorials/images/transfer_learning\"><img src=\"https://www.tensorflow.org/images/tf_logo_32px.png\" />View on TensorFlow.org</a>\n",
    "  </td>\n",
    "  <td>\n",
    "    <a target=\"_blank\" href=\"https://colab.research.google.com/github/tensorflow/docs/blob/master/site/en/tutorials/images/transfer_learning.ipynb\"><img src=\"https://www.tensorflow.org/images/colab_logo_32px.png\" />Run in Google Colab</a>\n",
    "  </td>\n",
    "  <td>\n",
    "    <a target=\"_blank\" href=\"https://github.com/tensorflow/docs/blob/master/site/en/tutorials/images/transfer_learning.ipynb\"><img src=\"https://www.tensorflow.org/images/GitHub-Mark-32px.png\" />View source on GitHub</a>\n",
    "  </td>\n",
    "  <td>\n",
    "    <a href=\"https://storage.googleapis.com/tensorflow_docs/docs/site/en/tutorials/images/transfer_learning.ipynb\"><img src=\"https://www.tensorflow.org/images/download_logo_32px.png\" />Download notebook</a>\n",
    "  </td>\n",
    "</table>"
   ]
  },
  {
   "cell_type": "markdown",
   "metadata": {
    "id": "2X4KyhORdSeO"
   },
   "source": [
    "In this tutorial, you will learn how to classify images of cats and dogs by using transfer learning from a pre-trained network.\n",
    "\n",
    "A pre-trained model is a saved network that was previously trained on a large dataset, typically on a large-scale image-classification task. You either use the pretrained model as is or use transfer learning to customize this model to a given task.\n",
    "\n",
    "The intuition behind transfer learning for image classification is that if a model is trained on a large and general enough dataset, this model will effectively serve as a generic model of the visual world. You can then take advantage of these learned feature maps without having to start from scratch by training a large model on a large dataset.\n",
    "\n",
    "In this notebook, you will try two ways to customize a pretrained model:\n",
    "\n",
    "1. Feature Extraction: Use the representations learned by a previous network to extract meaningful features from new samples. You simply add a new classifier, which will be trained from scratch, on top of the pretrained model so that you can repurpose the feature maps learned previously for the dataset.\n",
    "\n",
    " You do not need to (re)train the entire model. The base convolutional network already contains features that are generically useful for classifying pictures. However, the final, classification part of the pretrained model is specific to the original classification task, and subsequently specific to the set of classes on which the model was trained.\n",
    "\n",
    "1. Fine-Tuning: Unfreeze a few of the top layers of a frozen model base and jointly train both the newly-added classifier layers and the last layers of the base model. This allows us to \"fine-tune\" the higher-order feature representations in the base model in order to make them more relevant for the specific task.\n",
    "\n",
    "You will follow the general machine learning workflow.\n",
    "\n",
    "1. Examine and understand the data\n",
    "1. Build an input pipeline, in this case using Keras ImageDataGenerator\n",
    "1. Compose the model\n",
    "   * Load in the pretrained base model (and pretrained weights)\n",
    "   * Stack the classification layers on top\n",
    "1. Train the model\n",
    "1. Evaluate model\n"
   ]
  },
  {
   "cell_type": "code",
   "execution_count": 1,
   "metadata": {
    "execution": {
     "iopub.execute_input": "2021-06-16T19:27:39.409116Z",
     "iopub.status.busy": "2021-06-16T19:27:39.408533Z",
     "iopub.status.idle": "2021-06-16T19:27:41.010166Z",
     "shell.execute_reply": "2021-06-16T19:27:41.010582Z"
    },
    "id": "TqOt6Sv7AsMi"
   },
   "outputs": [],
   "source": [
    "import matplotlib.pyplot as plt\n",
    "import numpy as np\n",
    "import os\n",
    "import tensorflow as tf\n",
    "\n",
    "from tensorflow.keras.preprocessing import image_dataset_from_directory"
   ]
  },
  {
   "cell_type": "markdown",
   "metadata": {
    "id": "v77rlkCKW0IJ"
   },
   "source": [
    "## Data preprocessing"
   ]
  },
  {
   "cell_type": "markdown",
   "metadata": {
    "id": "0GoKGm1duzgk"
   },
   "source": [
    "### Data download"
   ]
  },
  {
   "cell_type": "markdown",
   "metadata": {
    "id": "vHP9qMJxt2oz"
   },
   "source": [
    "In this tutorial, you will use a dataset containing several thousand images of cats and dogs. Download and extract a zip file containing the images, then create a `tf.data.Dataset` for training and validation using the `tf.keras.preprocessing.image_dataset_from_directory` utility. You can learn more about loading images in this [tutorial](https://www.tensorflow.org/tutorials/load_data/images)."
   ]
  },
  {
   "cell_type": "code",
   "execution_count": 2,
   "metadata": {
    "execution": {
     "iopub.execute_input": "2021-06-16T19:27:41.016767Z",
     "iopub.status.busy": "2021-06-16T19:27:41.015705Z",
     "iopub.status.idle": "2021-06-16T19:27:45.774280Z",
     "shell.execute_reply": "2021-06-16T19:27:45.774683Z"
    },
    "id": "ro4oYaEmxe4r"
   },
   "outputs": [
    {
     "name": "stdout",
     "output_type": "stream",
     "text": [
      "Found 17484 files belonging to 2 classes.\n"
     ]
    },
    {
     "name": "stderr",
     "output_type": "stream",
     "text": [
      "2021-09-14 16:29:06.621428: I tensorflow/core/platform/cpu_feature_guard.cc:142] This TensorFlow binary is optimized with oneAPI Deep Neural Network Library (oneDNN) to use the following CPU instructions in performance-critical operations:  SSE4.1 SSE4.2 AVX AVX2 FMA\n",
      "To enable them in other operations, rebuild TensorFlow with the appropriate compiler flags.\n",
      "2021-09-14 16:29:06.622367: I tensorflow/core/common_runtime/process_util.cc:146] Creating new thread pool with default inter op setting: 2. Tune using inter_op_parallelism_threads for best performance.\n"
     ]
    }
   ],
   "source": [
    "train_dir = '/n/data1/hms/dbmi/park/simon_chu/projects/shared/toAntuan/machine_learning_training_data/train2'\n",
    "validation_dir = '/n/data1/hms/dbmi/park/simon_chu/projects/shared/toAntuan/machine_learning_training_data/validation2'\n",
    "\n",
    "BATCH_SIZE = 32\n",
    "IMG_SIZE = (160, 160)\n",
    "\n",
    "train_dataset = image_dataset_from_directory(train_dir,\n",
    "                                             shuffle=True,\n",
    "                                             batch_size=BATCH_SIZE,\n",
    "                                             image_size=IMG_SIZE)"
   ]
  },
  {
   "cell_type": "code",
   "execution_count": 3,
   "metadata": {},
   "outputs": [
    {
     "name": "stdout",
     "output_type": "stream",
     "text": [
      "/n/data1/hms/dbmi/park/simon_chu/projects/shared/toAntuan/machine_learning_training_data/train2\n"
     ]
    }
   ],
   "source": [
    "print(train_dir)"
   ]
  },
  {
   "cell_type": "code",
   "execution_count": 4,
   "metadata": {
    "execution": {
     "iopub.execute_input": "2021-06-16T19:27:45.778702Z",
     "iopub.status.busy": "2021-06-16T19:27:45.778114Z",
     "iopub.status.idle": "2021-06-16T19:27:45.895234Z",
     "shell.execute_reply": "2021-06-16T19:27:45.895607Z"
    },
    "id": "cAvtLwi7_J__"
   },
   "outputs": [
    {
     "name": "stdout",
     "output_type": "stream",
     "text": [
      "Found 1942 files belonging to 2 classes.\n"
     ]
    }
   ],
   "source": [
    "validation_dataset = image_dataset_from_directory(validation_dir,\n",
    "                                                  shuffle=True,\n",
    "                                                  batch_size=BATCH_SIZE,\n",
    "                                                  image_size=IMG_SIZE)"
   ]
  },
  {
   "cell_type": "markdown",
   "metadata": {
    "id": "yO1Q2JaW5sIy"
   },
   "source": [
    "Show the first nine images and labels from the training set:"
   ]
  },
  {
   "cell_type": "code",
   "execution_count": 5,
   "metadata": {
    "execution": {
     "iopub.execute_input": "2021-06-16T19:27:45.901714Z",
     "iopub.status.busy": "2021-06-16T19:27:45.900857Z",
     "iopub.status.idle": "2021-06-16T19:27:46.472343Z",
     "shell.execute_reply": "2021-06-16T19:27:46.472730Z"
    },
    "id": "K5BeQyKThC_Y"
   },
   "outputs": [
    {
     "name": "stderr",
     "output_type": "stream",
     "text": [
      "2021-09-14 16:29:07.329907: I tensorflow/compiler/mlir/mlir_graph_optimization_pass.cc:176] None of the MLIR Optimization Passes are enabled (registered 2)\n",
      "2021-09-14 16:29:07.330925: I tensorflow/core/platform/profile_utils/cpu_utils.cc:114] CPU Frequency: 2600060000 Hz\n"
     ]
    },
    {
     "data": {
      "image/png": "[encoded data removed]",
      "text/plain": [
       "<Figure size 720x720 with 9 Axes>"
      ]
     },
     "metadata": {
      "needs_background": "light"
     },
     "output_type": "display_data"
    }
   ],
   "source": [
    "class_names = train_dataset.class_names\n",
    "\n",
    "plt.figure(figsize=(10, 10))\n",
    "for images, labels in train_dataset.take(1):\n",
    "  for i in range(9):\n",
    "    ax = plt.subplot(3, 3, i + 1)\n",
    "    plt.imshow(images[i].numpy().astype(\"uint8\"))\n",
    "    plt.title(class_names[labels[i]])\n",
    "    plt.axis(\"off\")"
   ]
  },
  {
   "cell_type": "markdown",
   "metadata": {
    "id": "EZqCX_mpV3Mx"
   },
   "source": [
    "As the original dataset doesn't contain a test set, you will create one. To do so, determine how many batches of data are available in the validation set using ```tf.data.experimental.cardinality```, then move 20% of them to a test set."
   ]
  },
  {
   "cell_type": "code",
   "execution_count": 6,
   "metadata": {
    "execution": {
     "iopub.execute_input": "2021-06-16T19:27:46.476687Z",
     "iopub.status.busy": "2021-06-16T19:27:46.476099Z",
     "iopub.status.idle": "2021-06-16T19:27:46.479747Z",
     "shell.execute_reply": "2021-06-16T19:27:46.480088Z"
    },
    "id": "uFFIYrTFV9RO"
   },
   "outputs": [],
   "source": [
    "val_batches = tf.data.experimental.cardinality(validation_dataset)\n",
    "test_dataset = validation_dataset.take(val_batches // 5)\n",
    "validation_dataset = validation_dataset.skip(val_batches // 5)"
   ]
  },
  {
   "cell_type": "code",
   "execution_count": 7,
   "metadata": {
    "execution": {
     "iopub.execute_input": "2021-06-16T19:27:46.484030Z",
     "iopub.status.busy": "2021-06-16T19:27:46.483393Z",
     "iopub.status.idle": "2021-06-16T19:27:46.485355Z",
     "shell.execute_reply": "2021-06-16T19:27:46.485697Z"
    },
    "id": "Q9pFlFWgBKgH"
   },
   "outputs": [
    {
     "name": "stdout",
     "output_type": "stream",
     "text": [
      "Number of validation batches: 49\n",
      "Number of test batches: 12\n"
     ]
    }
   ],
   "source": [
    "print('Number of validation batches: %d' % tf.data.experimental.cardinality(validation_dataset))\n",
    "print('Number of test batches: %d' % tf.data.experimental.cardinality(test_dataset))"
   ]
  },
  {
   "cell_type": "markdown",
   "metadata": {
    "id": "MakSrdd--RKg"
   },
   "source": [
    "### Configure the dataset for performance"
   ]
  },
  {
   "cell_type": "markdown",
   "metadata": {
    "id": "22XWC7yjkZu4"
   },
   "source": [
    "Use buffered prefetching to load images from disk without having I/O become blocking. To learn more about this method see the [data performance](https://www.tensorflow.org/guide/data_performance) guide."
   ]
  },
  {
   "cell_type": "code",
   "execution_count": 8,
   "metadata": {
    "execution": {
     "iopub.execute_input": "2021-06-16T19:27:46.489488Z",
     "iopub.status.busy": "2021-06-16T19:27:46.488906Z",
     "iopub.status.idle": "2021-06-16T19:27:46.491765Z",
     "shell.execute_reply": "2021-06-16T19:27:46.492099Z"
    },
    "id": "p3UUPdm86LNC"
   },
   "outputs": [],
   "source": [
    "AUTOTUNE = tf.data.AUTOTUNE\n",
    "\n",
    "train_dataset = train_dataset.prefetch(buffer_size=AUTOTUNE)\n",
    "validation_dataset = validation_dataset.prefetch(buffer_size=AUTOTUNE)\n",
    "test_dataset = test_dataset.prefetch(buffer_size=AUTOTUNE)"
   ]
  },
  {
   "cell_type": "markdown",
   "metadata": {
    "id": "bAywKtuVn8uK"
   },
   "source": [
    "### Rescale pixel values\n",
    "\n",
    "In a moment, you will download `tf.keras.applications.MobileNetV2` for use as your base model. This model expects pixel values in `[-1, 1]`, but at this point, the pixel values in your images are in `[0, 255]`. To rescale them, use the preprocessing method included with the model."
   ]
  },
  {
   "cell_type": "code",
   "execution_count": 9,
   "metadata": {
    "execution": {
     "iopub.execute_input": "2021-06-16T19:27:47.267716Z",
     "iopub.status.busy": "2021-06-16T19:27:47.267131Z",
     "iopub.status.idle": "2021-06-16T19:27:47.268776Z",
     "shell.execute_reply": "2021-06-16T19:27:47.269121Z"
    },
    "id": "cO0HM9JAQUFq"
   },
   "outputs": [],
   "source": [
    "preprocess_input = tf.keras.applications.mobilenet_v2.preprocess_input"
   ]
  },
  {
   "cell_type": "markdown",
   "metadata": {
    "id": "xnr81qRMzcs5"
   },
   "source": [
    "Note: Alternatively, you could rescale pixel values from `[0, 255]` to `[-1, 1]` using a [Rescaling](https://www.tensorflow.org/api_docs/python/tf/keras/layers/experimental/preprocessing/Rescaling) layer."
   ]
  },
  {
   "cell_type": "code",
   "execution_count": 10,
   "metadata": {
    "execution": {
     "iopub.execute_input": "2021-06-16T19:27:47.273729Z",
     "iopub.status.busy": "2021-06-16T19:27:47.273184Z",
     "iopub.status.idle": "2021-06-16T19:27:47.274665Z",
     "shell.execute_reply": "2021-06-16T19:27:47.275011Z"
    },
    "id": "R2NyJn4KQMux"
   },
   "outputs": [],
   "source": [
    "rescale = tf.keras.layers.experimental.preprocessing.Rescaling(1./127.5, offset= -1)"
   ]
  },
  {
   "cell_type": "markdown",
   "metadata": {
    "id": "Wz7qgImhTxw4"
   },
   "source": [
    "Note: If using other `tf.keras.applications`, be sure to check the API doc to determine if they expect pixels in `[-1, 1]` or `[0, 1]`, or use the included `preprocess_input` function."
   ]
  },
  {
   "cell_type": "markdown",
   "metadata": {
    "id": "OkH-kazQecHB"
   },
   "source": [
    "## Create the base model from the pre-trained convnets\n",
    "You will create the base model from the **MobileNet V2** model developed at Google. This is pre-trained on the ImageNet dataset, a large dataset consisting of 1.4M images and 1000 classes. ImageNet is a research training dataset with a wide variety of categories like `jackfruit` and `syringe`. This base of knowledge will help us classify cats and dogs from our specific dataset.\n",
    "\n",
    "First, you need to pick which layer of MobileNet V2 you will use for feature extraction. The very last classification layer (on \"top\", as most diagrams of machine learning models go from bottom to top) is not very useful.  Instead, you will follow the common practice to depend on the very last layer before the flatten operation. This layer is called the \"bottleneck layer\". The bottleneck layer features retain more generality as compared to the final/top layer.\n",
    "\n",
    "First, instantiate a MobileNet V2 model pre-loaded with weights trained on ImageNet. By specifying the **include_top=False** argument, you load a network that doesn't include the classification layers at the top, which is ideal for feature extraction."
   ]
  },
  {
   "cell_type": "code",
   "execution_count": 11,
   "metadata": {
    "execution": {
     "iopub.execute_input": "2021-06-16T19:27:47.283987Z",
     "iopub.status.busy": "2021-06-16T19:27:47.283418Z",
     "iopub.status.idle": "2021-06-16T19:27:48.379814Z",
     "shell.execute_reply": "2021-06-16T19:27:48.380176Z"
    },
    "id": "19IQ2gqneqmS"
   },
   "outputs": [],
   "source": [
    "# Create the base model from the pre-trained model MobileNet V2\n",
    "IMG_SHAPE = IMG_SIZE + (3,)\n",
    "base_model = tf.keras.applications.MobileNetV2(input_shape=IMG_SHAPE,\n",
    "                                               include_top=False,\n",
    "                                               weights='imagenet')"
   ]
  },
  {
   "cell_type": "markdown",
   "metadata": {
    "id": "AqcsxoJIEVXZ"
   },
   "source": [
    "This feature extractor converts each `160x160x3` image into a `5x5x1280` block of features. Let's see what it does to an example batch of images:"
   ]
  },
  {
   "cell_type": "code",
   "execution_count": 12,
   "metadata": {
    "execution": {
     "iopub.execute_input": "2021-06-16T19:27:48.384273Z",
     "iopub.status.busy": "2021-06-16T19:27:48.383721Z",
     "iopub.status.idle": "2021-06-16T19:27:49.815155Z",
     "shell.execute_reply": "2021-06-16T19:27:49.815554Z"
    },
    "id": "Y-2LJL0EEUcx"
   },
   "outputs": [
    {
     "name": "stdout",
     "output_type": "stream",
     "text": [
      "(32, 5, 5, 1280)\n"
     ]
    }
   ],
   "source": [
    "image_batch, label_batch = next(iter(train_dataset))\n",
    "feature_batch = base_model(image_batch)\n",
    "print(feature_batch.shape)"
   ]
  },
  {
   "cell_type": "markdown",
   "metadata": {
    "id": "rlx56nQtfe8Y"
   },
   "source": [
    "## Feature extraction\n",
    "In this step, you will freeze the convolutional base created from the previous step and to use as a feature extractor. Additionally, you add a classifier on top of it and train the top-level classifier."
   ]
  },
  {
   "cell_type": "markdown",
   "metadata": {
    "id": "CnMLieHBCwil"
   },
   "source": [
    "### Freeze the convolutional base"
   ]
  },
  {
   "cell_type": "markdown",
   "metadata": {
    "id": "7fL6upiN3ekS"
   },
   "source": [
    "It is important to freeze the convolutional base before you compile and train the model. Freezing (by setting layer.trainable = False) prevents the weights in a given layer from being updated during training. MobileNet V2 has many layers, so setting the entire model's `trainable` flag to False will freeze all of them."
   ]
  },
  {
   "cell_type": "code",
   "execution_count": 13,
   "metadata": {
    "execution": {
     "iopub.execute_input": "2021-06-16T19:27:49.823124Z",
     "iopub.status.busy": "2021-06-16T19:27:49.822577Z",
     "iopub.status.idle": "2021-06-16T19:27:49.824197Z",
     "shell.execute_reply": "2021-06-16T19:27:49.824568Z"
    },
    "id": "OTCJH4bphOeo"
   },
   "outputs": [],
   "source": [
    "base_model.trainable = False"
   ]
  },
  {
   "cell_type": "markdown",
   "metadata": {
    "id": "jsNHwpm7BeVM"
   },
   "source": [
    "### Important note about BatchNormalization layers\n",
    "\n",
    "Many models contain `tf.keras.layers.BatchNormalization` layers. This layer is a special case and precautions should be taken in the context of fine-tuning, as shown later in this tutorial. \n",
    "\n",
    "When you set `layer.trainable = False`, the `BatchNormalization` layer will run in inference mode, and will not update its mean and variance statistics. \n",
    "\n",
    "When you unfreeze a model that contains BatchNormalization layers in order to do fine-tuning, you should keep the BatchNormalization layers in inference mode by passing `training = False` when calling the base model. Otherwise, the updates applied to the non-trainable weights will destroy what the model has learned.\n",
    "\n",
    "For details, see the [Transfer learning guide](https://www.tensorflow.org/guide/keras/transfer_learning)."
   ]
  },
  {
   "cell_type": "code",
   "execution_count": 14,
   "metadata": {
    "execution": {
     "iopub.execute_input": "2021-06-16T19:27:49.832895Z",
     "iopub.status.busy": "2021-06-16T19:27:49.831467Z",
     "iopub.status.idle": "2021-06-16T19:27:49.866744Z",
     "shell.execute_reply": "2021-06-16T19:27:49.866333Z"
    },
    "id": "KpbzSmPkDa-N"
   },
   "outputs": [
    {
     "name": "stdout",
     "output_type": "stream",
     "text": [
      "Model: \"mobilenetv2_1.00_160\"\n",
      "__________________________________________________________________________________________________\n",
      "Layer (type)                    Output Shape         Param #     Connected to                     \n",
      "==================================================================================================\n",
      "input_1 (InputLayer)            [(None, 160, 160, 3) 0                                            \n",
      "__________________________________________________________________________________________________\n",
      "Conv1 (Conv2D)                  (None, 80, 80, 32)   864         input_1[0][0]                    \n",
      "__________________________________________________________________________________________________\n",
      "bn_Conv1 (BatchNormalization)   (None, 80, 80, 32)   128         Conv1[0][0]                      \n",
      "__________________________________________________________________________________________________\n",
      "Conv1_relu (ReLU)               (None, 80, 80, 32)   0           bn_Conv1[0][0]                   \n",
      "__________________________________________________________________________________________________\n",
      "expanded_conv_depthwise (Depthw (None, 80, 80, 32)   288         Conv1_relu[0][0]                 \n",
      "__________________________________________________________________________________________________\n",
      "expanded_conv_depthwise_BN (Bat (None, 80, 80, 32)   128         expanded_conv_depthwise[0][0]    \n",
      "__________________________________________________________________________________________________\n",
      "expanded_conv_depthwise_relu (R (None, 80, 80, 32)   0           expanded_conv_depthwise_BN[0][0] \n",
      "__________________________________________________________________________________________________\n",
      "expanded_conv_project (Conv2D)  (None, 80, 80, 16)   512         expanded_conv_depthwise_relu[0][0\n",
      "__________________________________________________________________________________________________\n",
      "expanded_conv_project_BN (Batch (None, 80, 80, 16)   64          expanded_conv_project[0][0]      \n",
      "__________________________________________________________________________________________________\n",
      "block_1_expand (Conv2D)         (None, 80, 80, 96)   1536        expanded_conv_project_BN[0][0]   \n",
      "__________________________________________________________________________________________________\n",
      "block_1_expand_BN (BatchNormali (None, 80, 80, 96)   384         block_1_expand[0][0]             \n",
      "__________________________________________________________________________________________________\n",
      "block_1_expand_relu (ReLU)      (None, 80, 80, 96)   0           block_1_expand_BN[0][0]          \n",
      "__________________________________________________________________________________________________\n",
      "block_1_pad (ZeroPadding2D)     (None, 81, 81, 96)   0           block_1_expand_relu[0][0]        \n",
      "__________________________________________________________________________________________________\n",
      "block_1_depthwise (DepthwiseCon (None, 40, 40, 96)   864         block_1_pad[0][0]                \n",
      "__________________________________________________________________________________________________\n",
      "block_1_depthwise_BN (BatchNorm (None, 40, 40, 96)   384         block_1_depthwise[0][0]          \n",
      "__________________________________________________________________________________________________\n",
      "block_1_depthwise_relu (ReLU)   (None, 40, 40, 96)   0           block_1_depthwise_BN[0][0]       \n",
      "__________________________________________________________________________________________________\n",
      "block_1_project (Conv2D)        (None, 40, 40, 24)   2304        block_1_depthwise_relu[0][0]     \n",
      "__________________________________________________________________________________________________\n",
      "block_1_project_BN (BatchNormal (None, 40, 40, 24)   96          block_1_project[0][0]            \n",
      "__________________________________________________________________________________________________\n",
      "block_2_expand (Conv2D)         (None, 40, 40, 144)  3456        block_1_project_BN[0][0]         \n",
      "__________________________________________________________________________________________________\n",
      "block_2_expand_BN (BatchNormali (None, 40, 40, 144)  576         block_2_expand[0][0]             \n",
      "__________________________________________________________________________________________________\n",
      "block_2_expand_relu (ReLU)      (None, 40, 40, 144)  0           block_2_expand_BN[0][0]          \n",
      "__________________________________________________________________________________________________\n",
      "block_2_depthwise (DepthwiseCon (None, 40, 40, 144)  1296        block_2_expand_relu[0][0]        \n",
      "__________________________________________________________________________________________________\n",
      "block_2_depthwise_BN (BatchNorm (None, 40, 40, 144)  576         block_2_depthwise[0][0]          \n",
      "__________________________________________________________________________________________________\n",
      "block_2_depthwise_relu (ReLU)   (None, 40, 40, 144)  0           block_2_depthwise_BN[0][0]       \n",
      "__________________________________________________________________________________________________\n",
      "block_2_project (Conv2D)        (None, 40, 40, 24)   3456        block_2_depthwise_relu[0][0]     \n",
      "__________________________________________________________________________________________________\n",
      "block_2_project_BN (BatchNormal (None, 40, 40, 24)   96          block_2_project[0][0]            \n",
      "__________________________________________________________________________________________________\n",
      "block_2_add (Add)               (None, 40, 40, 24)   0           block_1_project_BN[0][0]         \n",
      "                                                                 block_2_project_BN[0][0]         \n",
      "__________________________________________________________________________________________________\n",
      "block_3_expand (Conv2D)         (None, 40, 40, 144)  3456        block_2_add[0][0]                \n",
      "__________________________________________________________________________________________________\n",
      "block_3_expand_BN (BatchNormali (None, 40, 40, 144)  576         block_3_expand[0][0]             \n",
      "__________________________________________________________________________________________________\n",
      "block_3_expand_relu (ReLU)      (None, 40, 40, 144)  0           block_3_expand_BN[0][0]          \n",
      "__________________________________________________________________________________________________\n",
      "block_3_pad (ZeroPadding2D)     (None, 41, 41, 144)  0           block_3_expand_relu[0][0]        \n",
      "__________________________________________________________________________________________________\n",
      "block_3_depthwise (DepthwiseCon (None, 20, 20, 144)  1296        block_3_pad[0][0]                \n",
      "__________________________________________________________________________________________________\n",
      "block_3_depthwise_BN (BatchNorm (None, 20, 20, 144)  576         block_3_depthwise[0][0]          \n",
      "__________________________________________________________________________________________________\n",
      "block_3_depthwise_relu (ReLU)   (None, 20, 20, 144)  0           block_3_depthwise_BN[0][0]       \n",
      "__________________________________________________________________________________________________\n",
      "block_3_project (Conv2D)        (None, 20, 20, 32)   4608        block_3_depthwise_relu[0][0]     \n",
      "__________________________________________________________________________________________________\n",
      "block_3_project_BN (BatchNormal (None, 20, 20, 32)   128         block_3_project[0][0]            \n",
      "__________________________________________________________________________________________________\n",
      "block_4_expand (Conv2D)         (None, 20, 20, 192)  6144        block_3_project_BN[0][0]         \n",
      "__________________________________________________________________________________________________\n",
      "block_4_expand_BN (BatchNormali (None, 20, 20, 192)  768         block_4_expand[0][0]             \n",
      "__________________________________________________________________________________________________\n",
      "block_4_expand_relu (ReLU)      (None, 20, 20, 192)  0           block_4_expand_BN[0][0]          \n",
      "__________________________________________________________________________________________________\n",
      "block_4_depthwise (DepthwiseCon (None, 20, 20, 192)  1728        block_4_expand_relu[0][0]        \n",
      "__________________________________________________________________________________________________\n",
      "block_4_depthwise_BN (BatchNorm (None, 20, 20, 192)  768         block_4_depthwise[0][0]          \n",
      "__________________________________________________________________________________________________\n",
      "block_4_depthwise_relu (ReLU)   (None, 20, 20, 192)  0           block_4_depthwise_BN[0][0]       \n",
      "__________________________________________________________________________________________________\n",
      "block_4_project (Conv2D)        (None, 20, 20, 32)   6144        block_4_depthwise_relu[0][0]     \n",
      "__________________________________________________________________________________________________\n",
      "block_4_project_BN (BatchNormal (None, 20, 20, 32)   128         block_4_project[0][0]            \n",
      "__________________________________________________________________________________________________\n",
      "block_4_add (Add)               (None, 20, 20, 32)   0           block_3_project_BN[0][0]         \n",
      "                                                                 block_4_project_BN[0][0]         \n",
      "__________________________________________________________________________________________________\n",
      "block_5_expand (Conv2D)         (None, 20, 20, 192)  6144        block_4_add[0][0]                \n",
      "__________________________________________________________________________________________________\n",
      "block_5_expand_BN (BatchNormali (None, 20, 20, 192)  768         block_5_expand[0][0]             \n",
      "__________________________________________________________________________________________________\n",
      "block_5_expand_relu (ReLU)      (None, 20, 20, 192)  0           block_5_expand_BN[0][0]          \n",
      "__________________________________________________________________________________________________\n",
      "block_5_depthwise (DepthwiseCon (None, 20, 20, 192)  1728        block_5_expand_relu[0][0]        \n",
      "__________________________________________________________________________________________________\n",
      "block_5_depthwise_BN (BatchNorm (None, 20, 20, 192)  768         block_5_depthwise[0][0]          \n",
      "__________________________________________________________________________________________________\n",
      "block_5_depthwise_relu (ReLU)   (None, 20, 20, 192)  0           block_5_depthwise_BN[0][0]       \n",
      "__________________________________________________________________________________________________\n",
      "block_5_project (Conv2D)        (None, 20, 20, 32)   6144        block_5_depthwise_relu[0][0]     \n",
      "__________________________________________________________________________________________________\n",
      "block_5_project_BN (BatchNormal (None, 20, 20, 32)   128         block_5_project[0][0]            \n",
      "__________________________________________________________________________________________________\n",
      "block_5_add (Add)               (None, 20, 20, 32)   0           block_4_add[0][0]                \n",
      "                                                                 block_5_project_BN[0][0]         \n",
      "__________________________________________________________________________________________________\n",
      "block_6_expand (Conv2D)         (None, 20, 20, 192)  6144        block_5_add[0][0]                \n",
      "__________________________________________________________________________________________________\n",
      "block_6_expand_BN (BatchNormali (None, 20, 20, 192)  768         block_6_expand[0][0]             \n",
      "__________________________________________________________________________________________________\n",
      "block_6_expand_relu (ReLU)      (None, 20, 20, 192)  0           block_6_expand_BN[0][0]          \n",
      "__________________________________________________________________________________________________\n",
      "block_6_pad (ZeroPadding2D)     (None, 21, 21, 192)  0           block_6_expand_relu[0][0]        \n",
      "__________________________________________________________________________________________________\n",
      "block_6_depthwise (DepthwiseCon (None, 10, 10, 192)  1728        block_6_pad[0][0]                \n",
      "__________________________________________________________________________________________________\n",
      "block_6_depthwise_BN (BatchNorm (None, 10, 10, 192)  768         block_6_depthwise[0][0]          \n",
      "__________________________________________________________________________________________________\n",
      "block_6_depthwise_relu (ReLU)   (None, 10, 10, 192)  0           block_6_depthwise_BN[0][0]       \n",
      "__________________________________________________________________________________________________\n",
      "block_6_project (Conv2D)        (None, 10, 10, 64)   12288       block_6_depthwise_relu[0][0]     \n",
      "__________________________________________________________________________________________________\n",
      "block_6_project_BN (BatchNormal (None, 10, 10, 64)   256         block_6_project[0][0]            \n",
      "__________________________________________________________________________________________________\n",
      "block_7_expand (Conv2D)         (None, 10, 10, 384)  24576       block_6_project_BN[0][0]         \n",
      "__________________________________________________________________________________________________\n",
      "block_7_expand_BN (BatchNormali (None, 10, 10, 384)  1536        block_7_expand[0][0]             \n",
      "__________________________________________________________________________________________________\n",
      "block_7_expand_relu (ReLU)      (None, 10, 10, 384)  0           block_7_expand_BN[0][0]          \n",
      "__________________________________________________________________________________________________\n",
      "block_7_depthwise (DepthwiseCon (None, 10, 10, 384)  3456        block_7_expand_relu[0][0]        \n",
      "__________________________________________________________________________________________________\n",
      "block_7_depthwise_BN (BatchNorm (None, 10, 10, 384)  1536        block_7_depthwise[0][0]          \n",
      "__________________________________________________________________________________________________\n",
      "block_7_depthwise_relu (ReLU)   (None, 10, 10, 384)  0           block_7_depthwise_BN[0][0]       \n",
      "__________________________________________________________________________________________________\n",
      "block_7_project (Conv2D)        (None, 10, 10, 64)   24576       block_7_depthwise_relu[0][0]     \n",
      "__________________________________________________________________________________________________\n",
      "block_7_project_BN (BatchNormal (None, 10, 10, 64)   256         block_7_project[0][0]            \n",
      "__________________________________________________________________________________________________\n",
      "block_7_add (Add)               (None, 10, 10, 64)   0           block_6_project_BN[0][0]         \n",
      "                                                                 block_7_project_BN[0][0]         \n",
      "__________________________________________________________________________________________________\n",
      "block_8_expand (Conv2D)         (None, 10, 10, 384)  24576       block_7_add[0][0]                \n",
      "__________________________________________________________________________________________________\n",
      "block_8_expand_BN (BatchNormali (None, 10, 10, 384)  1536        block_8_expand[0][0]             \n",
      "__________________________________________________________________________________________________\n",
      "block_8_expand_relu (ReLU)      (None, 10, 10, 384)  0           block_8_expand_BN[0][0]          \n",
      "__________________________________________________________________________________________________\n",
      "block_8_depthwise (DepthwiseCon (None, 10, 10, 384)  3456        block_8_expand_relu[0][0]        \n",
      "__________________________________________________________________________________________________\n",
      "block_8_depthwise_BN (BatchNorm (None, 10, 10, 384)  1536        block_8_depthwise[0][0]          \n",
      "__________________________________________________________________________________________________\n",
      "block_8_depthwise_relu (ReLU)   (None, 10, 10, 384)  0           block_8_depthwise_BN[0][0]       \n",
      "__________________________________________________________________________________________________\n",
      "block_8_project (Conv2D)        (None, 10, 10, 64)   24576       block_8_depthwise_relu[0][0]     \n",
      "__________________________________________________________________________________________________\n",
      "block_8_project_BN (BatchNormal (None, 10, 10, 64)   256         block_8_project[0][0]            \n",
      "__________________________________________________________________________________________________\n",
      "block_8_add (Add)               (None, 10, 10, 64)   0           block_7_add[0][0]                \n",
      "                                                                 block_8_project_BN[0][0]         \n",
      "__________________________________________________________________________________________________\n",
      "block_9_expand (Conv2D)         (None, 10, 10, 384)  24576       block_8_add[0][0]                \n",
      "__________________________________________________________________________________________________\n",
      "block_9_expand_BN (BatchNormali (None, 10, 10, 384)  1536        block_9_expand[0][0]             \n",
      "__________________________________________________________________________________________________\n",
      "block_9_expand_relu (ReLU)      (None, 10, 10, 384)  0           block_9_expand_BN[0][0]          \n",
      "__________________________________________________________________________________________________\n",
      "block_9_depthwise (DepthwiseCon (None, 10, 10, 384)  3456        block_9_expand_relu[0][0]        \n",
      "__________________________________________________________________________________________________\n",
      "block_9_depthwise_BN (BatchNorm (None, 10, 10, 384)  1536        block_9_depthwise[0][0]          \n",
      "__________________________________________________________________________________________________\n",
      "block_9_depthwise_relu (ReLU)   (None, 10, 10, 384)  0           block_9_depthwise_BN[0][0]       \n",
      "__________________________________________________________________________________________________\n",
      "block_9_project (Conv2D)        (None, 10, 10, 64)   24576       block_9_depthwise_relu[0][0]     \n",
      "__________________________________________________________________________________________________\n",
      "block_9_project_BN (BatchNormal (None, 10, 10, 64)   256         block_9_project[0][0]            \n",
      "__________________________________________________________________________________________________\n",
      "block_9_add (Add)               (None, 10, 10, 64)   0           block_8_add[0][0]                \n",
      "                                                                 block_9_project_BN[0][0]         \n",
      "__________________________________________________________________________________________________\n",
      "block_10_expand (Conv2D)        (None, 10, 10, 384)  24576       block_9_add[0][0]                \n",
      "__________________________________________________________________________________________________\n",
      "block_10_expand_BN (BatchNormal (None, 10, 10, 384)  1536        block_10_expand[0][0]            \n",
      "__________________________________________________________________________________________________\n",
      "block_10_expand_relu (ReLU)     (None, 10, 10, 384)  0           block_10_expand_BN[0][0]         \n",
      "__________________________________________________________________________________________________\n",
      "block_10_depthwise (DepthwiseCo (None, 10, 10, 384)  3456        block_10_expand_relu[0][0]       \n",
      "__________________________________________________________________________________________________\n",
      "block_10_depthwise_BN (BatchNor (None, 10, 10, 384)  1536        block_10_depthwise[0][0]         \n",
      "__________________________________________________________________________________________________\n",
      "block_10_depthwise_relu (ReLU)  (None, 10, 10, 384)  0           block_10_depthwise_BN[0][0]      \n",
      "__________________________________________________________________________________________________\n",
      "block_10_project (Conv2D)       (None, 10, 10, 96)   36864       block_10_depthwise_relu[0][0]    \n",
      "__________________________________________________________________________________________________\n",
      "block_10_project_BN (BatchNorma (None, 10, 10, 96)   384         block_10_project[0][0]           \n",
      "__________________________________________________________________________________________________\n",
      "block_11_expand (Conv2D)        (None, 10, 10, 576)  55296       block_10_project_BN[0][0]        \n",
      "__________________________________________________________________________________________________\n",
      "block_11_expand_BN (BatchNormal (None, 10, 10, 576)  2304        block_11_expand[0][0]            \n",
      "__________________________________________________________________________________________________\n",
      "block_11_expand_relu (ReLU)     (None, 10, 10, 576)  0           block_11_expand_BN[0][0]         \n",
      "__________________________________________________________________________________________________\n",
      "block_11_depthwise (DepthwiseCo (None, 10, 10, 576)  5184        block_11_expand_relu[0][0]       \n",
      "__________________________________________________________________________________________________\n",
      "block_11_depthwise_BN (BatchNor (None, 10, 10, 576)  2304        block_11_depthwise[0][0]         \n",
      "__________________________________________________________________________________________________\n",
      "block_11_depthwise_relu (ReLU)  (None, 10, 10, 576)  0           block_11_depthwise_BN[0][0]      \n",
      "__________________________________________________________________________________________________\n",
      "block_11_project (Conv2D)       (None, 10, 10, 96)   55296       block_11_depthwise_relu[0][0]    \n",
      "__________________________________________________________________________________________________\n",
      "block_11_project_BN (BatchNorma (None, 10, 10, 96)   384         block_11_project[0][0]           \n",
      "__________________________________________________________________________________________________\n",
      "block_11_add (Add)              (None, 10, 10, 96)   0           block_10_project_BN[0][0]        \n",
      "                                                                 block_11_project_BN[0][0]        \n",
      "__________________________________________________________________________________________________\n",
      "block_12_expand (Conv2D)        (None, 10, 10, 576)  55296       block_11_add[0][0]               \n",
      "__________________________________________________________________________________________________\n",
      "block_12_expand_BN (BatchNormal (None, 10, 10, 576)  2304        block_12_expand[0][0]            \n",
      "__________________________________________________________________________________________________\n",
      "block_12_expand_relu (ReLU)     (None, 10, 10, 576)  0           block_12_expand_BN[0][0]         \n",
      "__________________________________________________________________________________________________\n",
      "block_12_depthwise (DepthwiseCo (None, 10, 10, 576)  5184        block_12_expand_relu[0][0]       \n",
      "__________________________________________________________________________________________________\n",
      "block_12_depthwise_BN (BatchNor (None, 10, 10, 576)  2304        block_12_depthwise[0][0]         \n",
      "__________________________________________________________________________________________________\n",
      "block_12_depthwise_relu (ReLU)  (None, 10, 10, 576)  0           block_12_depthwise_BN[0][0]      \n",
      "__________________________________________________________________________________________________\n",
      "block_12_project (Conv2D)       (None, 10, 10, 96)   55296       block_12_depthwise_relu[0][0]    \n",
      "__________________________________________________________________________________________________\n",
      "block_12_project_BN (BatchNorma (None, 10, 10, 96)   384         block_12_project[0][0]           \n",
      "__________________________________________________________________________________________________\n",
      "block_12_add (Add)              (None, 10, 10, 96)   0           block_11_add[0][0]               \n",
      "                                                                 block_12_project_BN[0][0]        \n",
      "__________________________________________________________________________________________________\n",
      "block_13_expand (Conv2D)        (None, 10, 10, 576)  55296       block_12_add[0][0]               \n",
      "__________________________________________________________________________________________________\n",
      "block_13_expand_BN (BatchNormal (None, 10, 10, 576)  2304        block_13_expand[0][0]            \n",
      "__________________________________________________________________________________________________\n",
      "block_13_expand_relu (ReLU)     (None, 10, 10, 576)  0           block_13_expand_BN[0][0]         \n",
      "__________________________________________________________________________________________________\n",
      "block_13_pad (ZeroPadding2D)    (None, 11, 11, 576)  0           block_13_expand_relu[0][0]       \n",
      "__________________________________________________________________________________________________\n",
      "block_13_depthwise (DepthwiseCo (None, 5, 5, 576)    5184        block_13_pad[0][0]               \n",
      "__________________________________________________________________________________________________\n",
      "block_13_depthwise_BN (BatchNor (None, 5, 5, 576)    2304        block_13_depthwise[0][0]         \n",
      "__________________________________________________________________________________________________\n",
      "block_13_depthwise_relu (ReLU)  (None, 5, 5, 576)    0           block_13_depthwise_BN[0][0]      \n",
      "__________________________________________________________________________________________________\n",
      "block_13_project (Conv2D)       (None, 5, 5, 160)    92160       block_13_depthwise_relu[0][0]    \n",
      "__________________________________________________________________________________________________\n",
      "block_13_project_BN (BatchNorma (None, 5, 5, 160)    640         block_13_project[0][0]           \n",
      "__________________________________________________________________________________________________\n",
      "block_14_expand (Conv2D)        (None, 5, 5, 960)    153600      block_13_project_BN[0][0]        \n",
      "__________________________________________________________________________________________________\n",
      "block_14_expand_BN (BatchNormal (None, 5, 5, 960)    3840        block_14_expand[0][0]            \n",
      "__________________________________________________________________________________________________\n",
      "block_14_expand_relu (ReLU)     (None, 5, 5, 960)    0           block_14_expand_BN[0][0]         \n",
      "__________________________________________________________________________________________________\n",
      "block_14_depthwise (DepthwiseCo (None, 5, 5, 960)    8640        block_14_expand_relu[0][0]       \n",
      "__________________________________________________________________________________________________\n",
      "block_14_depthwise_BN (BatchNor (None, 5, 5, 960)    3840        block_14_depthwise[0][0]         \n",
      "__________________________________________________________________________________________________\n",
      "block_14_depthwise_relu (ReLU)  (None, 5, 5, 960)    0           block_14_depthwise_BN[0][0]      \n",
      "__________________________________________________________________________________________________\n",
      "block_14_project (Conv2D)       (None, 5, 5, 160)    153600      block_14_depthwise_relu[0][0]    \n",
      "__________________________________________________________________________________________________\n",
      "block_14_project_BN (BatchNorma (None, 5, 5, 160)    640         block_14_project[0][0]           \n",
      "__________________________________________________________________________________________________\n",
      "block_14_add (Add)              (None, 5, 5, 160)    0           block_13_project_BN[0][0]        \n",
      "                                                                 block_14_project_BN[0][0]        \n",
      "__________________________________________________________________________________________________\n",
      "block_15_expand (Conv2D)        (None, 5, 5, 960)    153600      block_14_add[0][0]               \n",
      "__________________________________________________________________________________________________\n",
      "block_15_expand_BN (BatchNormal (None, 5, 5, 960)    3840        block_15_expand[0][0]            \n",
      "__________________________________________________________________________________________________\n",
      "block_15_expand_relu (ReLU)     (None, 5, 5, 960)    0           block_15_expand_BN[0][0]         \n",
      "__________________________________________________________________________________________________\n",
      "block_15_depthwise (DepthwiseCo (None, 5, 5, 960)    8640        block_15_expand_relu[0][0]       \n",
      "__________________________________________________________________________________________________\n",
      "block_15_depthwise_BN (BatchNor (None, 5, 5, 960)    3840        block_15_depthwise[0][0]         \n",
      "__________________________________________________________________________________________________\n",
      "block_15_depthwise_relu (ReLU)  (None, 5, 5, 960)    0           block_15_depthwise_BN[0][0]      \n",
      "__________________________________________________________________________________________________\n",
      "block_15_project (Conv2D)       (None, 5, 5, 160)    153600      block_15_depthwise_relu[0][0]    \n",
      "__________________________________________________________________________________________________\n",
      "block_15_project_BN (BatchNorma (None, 5, 5, 160)    640         block_15_project[0][0]           \n",
      "__________________________________________________________________________________________________\n",
      "block_15_add (Add)              (None, 5, 5, 160)    0           block_14_add[0][0]               \n",
      "                                                                 block_15_project_BN[0][0]        \n",
      "__________________________________________________________________________________________________\n",
      "block_16_expand (Conv2D)        (None, 5, 5, 960)    153600      block_15_add[0][0]               \n",
      "__________________________________________________________________________________________________\n",
      "block_16_expand_BN (BatchNormal (None, 5, 5, 960)    3840        block_16_expand[0][0]            \n",
      "__________________________________________________________________________________________________\n",
      "block_16_expand_relu (ReLU)     (None, 5, 5, 960)    0           block_16_expand_BN[0][0]         \n",
      "__________________________________________________________________________________________________\n",
      "block_16_depthwise (DepthwiseCo (None, 5, 5, 960)    8640        block_16_expand_relu[0][0]       \n",
      "__________________________________________________________________________________________________\n",
      "block_16_depthwise_BN (BatchNor (None, 5, 5, 960)    3840        block_16_depthwise[0][0]         \n",
      "__________________________________________________________________________________________________\n",
      "block_16_depthwise_relu (ReLU)  (None, 5, 5, 960)    0           block_16_depthwise_BN[0][0]      \n",
      "__________________________________________________________________________________________________\n",
      "block_16_project (Conv2D)       (None, 5, 5, 320)    307200      block_16_depthwise_relu[0][0]    \n",
      "__________________________________________________________________________________________________\n",
      "block_16_project_BN (BatchNorma (None, 5, 5, 320)    1280        block_16_project[0][0]           \n",
      "__________________________________________________________________________________________________\n",
      "Conv_1 (Conv2D)                 (None, 5, 5, 1280)   409600      block_16_project_BN[0][0]        \n",
      "__________________________________________________________________________________________________\n",
      "Conv_1_bn (BatchNormalization)  (None, 5, 5, 1280)   5120        Conv_1[0][0]                     \n",
      "__________________________________________________________________________________________________\n",
      "out_relu (ReLU)                 (None, 5, 5, 1280)   0           Conv_1_bn[0][0]                  \n",
      "==================================================================================================\n",
      "Total params: 2,257,984\n",
      "Trainable params: 0\n",
      "Non-trainable params: 2,257,984\n",
      "__________________________________________________________________________________________________\n"
     ]
    }
   ],
   "source": [
    "# Let's take a look at the base model architecture\n",
    "base_model.summary()"
   ]
  },
  {
   "cell_type": "markdown",
   "metadata": {
    "id": "wdMRM8YModbk"
   },
   "source": [
    "### Add a classification head"
   ]
  },
  {
   "cell_type": "markdown",
   "metadata": {
    "id": "QBc31c4tMOdH"
   },
   "source": [
    "To generate predictions from the block of features, average over the spatial `5x5` spatial locations, using a `tf.keras.layers.GlobalAveragePooling2D` layer to convert the features to  a single 1280-element vector per image."
   ]
  },
  {
   "cell_type": "code",
   "execution_count": 15,
   "metadata": {
    "execution": {
     "iopub.execute_input": "2021-06-16T19:27:49.871584Z",
     "iopub.status.busy": "2021-06-16T19:27:49.871004Z",
     "iopub.status.idle": "2021-06-16T19:27:49.873255Z",
     "shell.execute_reply": "2021-06-16T19:27:49.872859Z"
    },
    "id": "dLnpMF5KOALm"
   },
   "outputs": [
    {
     "name": "stdout",
     "output_type": "stream",
     "text": [
      "(32, 1280)\n"
     ]
    }
   ],
   "source": [
    "global_average_layer = tf.keras.layers.GlobalAveragePooling2D()\n",
    "feature_batch_average = global_average_layer(feature_batch)\n",
    "print(feature_batch_average.shape)"
   ]
  },
  {
   "cell_type": "markdown",
   "metadata": {
    "id": "O1p0OJBR6dOT"
   },
   "source": [
    "Apply a `tf.keras.layers.Dense` layer to convert these features into a single prediction per image. You don't need an activation function here because this prediction will be treated as a `logit`, or a raw prediction value.  Positive numbers predict class 1, negative numbers predict class 0."
   ]
  },
  {
   "cell_type": "code",
   "execution_count": 16,
   "metadata": {
    "execution": {
     "iopub.execute_input": "2021-06-16T19:27:49.877859Z",
     "iopub.status.busy": "2021-06-16T19:27:49.877305Z",
     "iopub.status.idle": "2021-06-16T19:27:49.881632Z",
     "shell.execute_reply": "2021-06-16T19:27:49.881959Z"
    },
    "id": "Wv4afXKj6cVa"
   },
   "outputs": [
    {
     "name": "stdout",
     "output_type": "stream",
     "text": [
      "(32, 1)\n"
     ]
    }
   ],
   "source": [
    "prediction_layer = tf.keras.layers.Dense(1)\n",
    "prediction_batch = prediction_layer(feature_batch_average)\n",
    "print(prediction_batch.shape)"
   ]
  },
  {
   "cell_type": "markdown",
   "metadata": {
    "id": "HXvz-ZkTa9b3"
   },
   "source": [
    "Build a model by chaining together the data augmentation, rescaling, base_model and feature extractor layers using the [Keras Functional API](https://www.tensorflow.org/guide/keras/functional). As previously mentioned, use training=False as our model contains a BatchNormalization layer."
   ]
  },
  {
   "cell_type": "code",
   "execution_count": 17,
   "metadata": {
    "execution": {
     "iopub.execute_input": "2021-06-16T19:27:49.888702Z",
     "iopub.status.busy": "2021-06-16T19:27:49.886848Z",
     "iopub.status.idle": "2021-06-16T19:27:50.292467Z",
     "shell.execute_reply": "2021-06-16T19:27:50.292837Z"
    },
    "id": "DgzQX6Veb2WT"
   },
   "outputs": [],
   "source": [
    "inputs = tf.keras.Input(shape=(160, 160, 3))\n",
    "x = preprocess_input(inputs)\n",
    "x = base_model(x, training=False)\n",
    "x = global_average_layer(x)\n",
    "x = tf.keras.layers.Dropout(0.2)(x)\n",
    "outputs = prediction_layer(x)\n",
    "model = tf.keras.Model(inputs, outputs)"
   ]
  },
  {
   "cell_type": "markdown",
   "metadata": {
    "id": "g0ylJXE_kRLi"
   },
   "source": [
    "### Compile the model\n",
    "\n",
    "Compile the model before training it. Since there are two classes, use a binary cross-entropy loss with `from_logits=True` since the model provides a linear output."
   ]
  },
  {
   "cell_type": "code",
   "execution_count": 18,
   "metadata": {
    "execution": {
     "iopub.execute_input": "2021-06-16T19:27:50.300443Z",
     "iopub.status.busy": "2021-06-16T19:27:50.296775Z",
     "iopub.status.idle": "2021-06-16T19:27:50.306237Z",
     "shell.execute_reply": "2021-06-16T19:27:50.306589Z"
    },
    "id": "RpR8HdyMhukJ"
   },
   "outputs": [
    {
     "name": "stderr",
     "output_type": "stream",
     "text": [
      "/home/avt481/.conda/envs/tensor/lib/python3.9/site-packages/tensorflow/python/keras/optimizer_v2/optimizer_v2.py:374: UserWarning: The `lr` argument is deprecated, use `learning_rate` instead.\n",
      "  warnings.warn(\n"
     ]
    }
   ],
   "source": [
    "base_learning_rate = 0.0001\n",
    "model.compile(optimizer=tf.keras.optimizers.Adam(lr=base_learning_rate),\n",
    "              loss=tf.keras.losses.BinaryCrossentropy(from_logits=True),\n",
    "              metrics=['accuracy'])"
   ]
  },
  {
   "cell_type": "code",
   "execution_count": 19,
   "metadata": {
    "execution": {
     "iopub.execute_input": "2021-06-16T19:27:50.316066Z",
     "iopub.status.busy": "2021-06-16T19:27:50.315511Z",
     "iopub.status.idle": "2021-06-16T19:27:50.318441Z",
     "shell.execute_reply": "2021-06-16T19:27:50.318036Z"
    },
    "id": "I8ARiyMFsgbH"
   },
   "outputs": [
    {
     "name": "stdout",
     "output_type": "stream",
     "text": [
      "Model: \"model\"\n",
      "_________________________________________________________________\n",
      "Layer (type)                 Output Shape              Param #   \n",
      "=================================================================\n",
      "input_2 (InputLayer)         [(None, 160, 160, 3)]     0         \n",
      "_________________________________________________________________\n",
      "tf.math.truediv (TFOpLambda) (None, 160, 160, 3)       0         \n",
      "_________________________________________________________________\n",
      "tf.math.subtract (TFOpLambda (None, 160, 160, 3)       0         \n",
      "_________________________________________________________________\n",
      "mobilenetv2_1.00_160 (Functi (None, 5, 5, 1280)        2257984   \n",
      "_________________________________________________________________\n",
      "global_average_pooling2d (Gl (None, 1280)              0         \n",
      "_________________________________________________________________\n",
      "dropout (Dropout)            (None, 1280)              0         \n",
      "_________________________________________________________________\n",
      "dense (Dense)                (None, 1)                 1281      \n",
      "=================================================================\n",
      "Total params: 2,259,265\n",
      "Trainable params: 1,281\n",
      "Non-trainable params: 2,257,984\n",
      "_________________________________________________________________\n"
     ]
    }
   ],
   "source": [
    "model.summary()"
   ]
  },
  {
   "cell_type": "markdown",
   "metadata": {
    "id": "lxOcmVr0ydFZ"
   },
   "source": [
    "The 2.5M parameters in MobileNet are frozen, but there are 1.2K _trainable_ parameters in the Dense layer.  These are divided between two `tf.Variable` objects, the weights and biases."
   ]
  },
  {
   "cell_type": "code",
   "execution_count": 20,
   "metadata": {
    "execution": {
     "iopub.execute_input": "2021-06-16T19:27:50.322319Z",
     "iopub.status.busy": "2021-06-16T19:27:50.321742Z",
     "iopub.status.idle": "2021-06-16T19:27:50.323914Z",
     "shell.execute_reply": "2021-06-16T19:27:50.324239Z"
    },
    "id": "krvBumovycVA"
   },
   "outputs": [
    {
     "data": {
      "text/plain": [
       "2"
      ]
     },
     "execution_count": 20,
     "metadata": {},
     "output_type": "execute_result"
    }
   ],
   "source": [
    "len(model.trainable_variables)"
   ]
  },
  {
   "cell_type": "markdown",
   "metadata": {
    "id": "RxvgOYTDSWTx"
   },
   "source": [
    "### Train the model\n",
    "\n",
    "After training for 10 epochs, you should see ~94% accuracy on the validation set.\n"
   ]
  },
  {
   "cell_type": "code",
   "execution_count": 21,
   "metadata": {
    "execution": {
     "iopub.execute_input": "2021-06-16T19:27:50.327512Z",
     "iopub.status.busy": "2021-06-16T19:27:50.326948Z",
     "iopub.status.idle": "2021-06-16T19:27:52.296235Z",
     "shell.execute_reply": "2021-06-16T19:27:52.296573Z"
    },
    "id": "Om4O3EESkab1",
    "scrolled": true
   },
   "outputs": [
    {
     "name": "stdout",
     "output_type": "stream",
     "text": [
      "49/49 [==============================] - 44s 655ms/step - loss: 0.8052 - accuracy: 0.5225\n"
     ]
    }
   ],
   "source": [
    "initial_epochs = 10\n",
    "\n",
    "loss0, accuracy0 = model.evaluate(validation_dataset)"
   ]
  },
  {
   "cell_type": "code",
   "execution_count": 22,
   "metadata": {
    "execution": {
     "iopub.execute_input": "2021-06-16T19:27:52.300598Z",
     "iopub.status.busy": "2021-06-16T19:27:52.300043Z",
     "iopub.status.idle": "2021-06-16T19:27:52.302160Z",
     "shell.execute_reply": "2021-06-16T19:27:52.302526Z"
    },
    "id": "8cYT1c48CuSd"
   },
   "outputs": [
    {
     "name": "stdout",
     "output_type": "stream",
     "text": [
      "initial loss: 0.81\n",
      "initial accuracy: 0.52\n"
     ]
    }
   ],
   "source": [
    "print(\"initial loss: {:.2f}\".format(loss0))\n",
    "print(\"initial accuracy: {:.2f}\".format(accuracy0))"
   ]
  },
  {
   "cell_type": "code",
   "execution_count": 23,
   "metadata": {
    "execution": {
     "iopub.execute_input": "2021-06-16T19:27:52.306879Z",
     "iopub.status.busy": "2021-06-16T19:27:52.306251Z",
     "iopub.status.idle": "2021-06-16T19:28:07.955470Z",
     "shell.execute_reply": "2021-06-16T19:28:07.955848Z"
    },
    "id": "JsaRFlZ9B6WK"
   },
   "outputs": [
    {
     "name": "stdout",
     "output_type": "stream",
     "text": [
      "Epoch 1/10\n",
      "547/547 [==============================] - 423s 762ms/step - loss: 0.6276 - accuracy: 0.6306 - val_loss: 0.5047 - val_accuracy: 0.7311\n",
      "Epoch 2/10\n",
      "547/547 [==============================] - 428s 775ms/step - loss: 0.5273 - accuracy: 0.7239 - val_loss: 0.4740 - val_accuracy: 0.7542\n",
      "Epoch 3/10\n",
      "547/547 [==============================] - 412s 745ms/step - loss: 0.4929 - accuracy: 0.7478 - val_loss: 0.4487 - val_accuracy: 0.7754\n",
      "Epoch 4/10\n",
      "547/547 [==============================] - 411s 745ms/step - loss: 0.4762 - accuracy: 0.7641 - val_loss: 0.4300 - val_accuracy: 0.7927\n",
      "Epoch 5/10\n",
      "547/547 [==============================] - 411s 744ms/step - loss: 0.4612 - accuracy: 0.7755 - val_loss: 0.4220 - val_accuracy: 0.7908\n",
      "Epoch 6/10\n",
      "547/547 [==============================] - 413s 749ms/step - loss: 0.4481 - accuracy: 0.7856 - val_loss: 0.4169 - val_accuracy: 0.7997\n",
      "Epoch 7/10\n",
      "547/547 [==============================] - 411s 746ms/step - loss: 0.4427 - accuracy: 0.7885 - val_loss: 0.4099 - val_accuracy: 0.8087\n",
      "Epoch 8/10\n",
      "547/547 [==============================] - 414s 751ms/step - loss: 0.4348 - accuracy: 0.7939 - val_loss: 0.3984 - val_accuracy: 0.8062\n",
      "Epoch 9/10\n",
      "547/547 [==============================] - 416s 753ms/step - loss: 0.4280 - accuracy: 0.8011 - val_loss: 0.3893 - val_accuracy: 0.8171\n",
      "Epoch 10/10\n",
      "547/547 [==============================] - 421s 763ms/step - loss: 0.4236 - accuracy: 0.7999 - val_loss: 0.3967 - val_accuracy: 0.8190\n"
     ]
    }
   ],
   "source": [
    "history = model.fit(train_dataset,\n",
    "                    epochs=initial_epochs,\n",
    "                    validation_data=validation_dataset)"
   ]
  },
  {
   "cell_type": "code",
   "execution_count": null,
   "metadata": {},
   "outputs": [],
   "source": [
    "run1:\n",
    "Epoch 1/10\n",
    "503/503 [==============================] - 649s 1s/step - loss: 0.6812 - accuracy: 0.5922 - val_loss: 0.5888 - val_accuracy: 0.6500\n",
    "Epoch 2/10\n",
    "503/503 [==============================] - 580s 1s/step - loss: 0.5828 - accuracy: 0.6778 - val_loss: 0.5540 - val_accuracy: 0.6927\n",
    "Epoch 3/10\n",
    "503/503 [==============================] - 580s 1s/step - loss: 0.5410 - accuracy: 0.7137 - val_loss: 0.5342 - val_accuracy: 0.7186\n",
    "Epoch 4/10\n",
    "503/503 [==============================:] - 910s 2s/step - loss: 0.5225 - accuracy: 0.7279 - val_loss: 0.5083 - val_accuracy: 0.7330\n",
    "Epoch 5/10\n",
    "503/503 [==============================] - 581s 1s/step - loss: 0.5089 - accuracy: 0.7392 - val_loss: 0.5039 - val_accuracy: 0.7420\n",
    "Epoch 6/10\n",
    "503/503 [==============================] - 578s 1s/step - loss: 0.4940 - accuracy: 0.7479 - val_loss: 0.4931 - val_accuracy: 0.7583\n",
    "Epoch 7/10\n",
    "503/503 [==============================] - 578s 1s/step - loss: 0.4833 - accuracy: 0.7543 - val_loss: 0.4836 - val_accuracy: 0.7631\n",
    "Epoch 8/10\n",
    "503/503 [==============================] - 578s 1s/step - loss: 0.4766 - accuracy: 0.7635 - val_loss: 0.4806 - val_accuracy: 0.7661\n",
    "Epoch 9/10\n",
    "2021-08-09 13:30:48.743837: I tensorflow/core/kernels/data/shuffle_dataset_op.cc:177] Filling up shuffle buffer (this may take a while): 1 of 256\n",
    "2021-08-09 13:30:49.605931: I tensorflow/core/kernels/data/shuffle_dataset_op.cc:177] Filling up shuffle buffer (this may take a while): 42 of 256\n",
    "2021-08-09 13:30:53.913476: I tensorflow/core/kernels/data/shuffle_dataset_op.cc:230] Shuffle buffer filled.\n",
    "503/503 [==============================] - 601s 1s/step - loss: 0.4651 - accuracy: 0.7702 - val_loss: 0.4730 - val_accuracy: 0.7745\n",
    "Epoch 10/10\n",
    "503/503 [==============================] - 580s 1s/step - loss: 0.4600 - accuracy: 0.7740 - val_loss: 0.4604 - val_accuracy: 0.7841"
   ]
  },
  {
   "cell_type": "code",
   "execution_count": null,
   "metadata": {},
   "outputs": [],
   "source": [
    "Run2:\n",
    "    Epoch 1/10\n",
    "503/503 [==============================] - 503s 986ms/step - loss: 0.6664 - accuracy: 0.5954 - val_loss: 0.6033 - val_accuracy: 0.6314\n",
    "Epoch 2/10\n",
    "503/503 [==============================] - 504s 992ms/step - loss: 0.5770 - accuracy: 0.6802 - val_loss: 0.5627 - val_accuracy: 0.6813\n",
    "Epoch 3/10\n",
    "503/503 [==============================] - 488s 961ms/step - loss: 0.5403 - accuracy: 0.7089 - val_loss: 0.5333 - val_accuracy: 0.7096\n",
    "Epoch 4/10\n",
    "503/503 [==============================] - 490s 964ms/step - loss: 0.5176 - accuracy: 0.7326 - val_loss: 0.5160 - val_accuracy: 0.7204\n",
    "Epoch 5/10\n",
    "503/503 [==============================] - 493s 970ms/step - loss: 0.5033 - accuracy: 0.7421 - val_loss: 0.5044 - val_accuracy: 0.7258\n",
    "Epoch 6/10\n",
    "503/503 [==============================] - 492s 968ms/step - loss: 0.4903 - accuracy: 0.7514 - val_loss: 0.4953 - val_accuracy: 0.7529\n",
    "Epoch 7/10\n",
    "503/503 [==============================] - 484s 953ms/step - loss: 0.4794 - accuracy: 0.7597 - val_loss: 0.4804 - val_accuracy: 0.7589\n",
    "Epoch 8/10\n",
    "503/503 [==============================] - 490s 964ms/step - loss: 0.4701 - accuracy: 0.7666 - val_loss: 0.4770 - val_accuracy: 0.7655\n",
    "Epoch 9/10\n",
    "503/503 [==============================] - 491s 967ms/step - loss: 0.4640 - accuracy: 0.7724 - val_loss: 0.4681 - val_accuracy: 0.7715\n",
    "Epoch 10/10\n",
    "503/503 [==============================] - 484s 952ms/step - loss: 0.4556 - accuracy: 0.7778 - val_loss: 0.4649 - val_accuracy: 0.7691"
   ]
  },
  {
   "cell_type": "markdown",
   "metadata": {
    "id": "Hd94CKImf8vi"
   },
   "source": [
    "### Learning curves\n",
    "\n",
    "Let's take a look at the learning curves of the training and validation accuracy/loss when using the MobileNet V2 base model as a fixed feature extractor."
   ]
  },
  {
   "cell_type": "code",
   "execution_count": 24,
   "metadata": {},
   "outputs": [
    {
     "name": "stderr",
     "output_type": "stream",
     "text": [
      "2021-09-14 17:43:42.039719: W tensorflow/python/util/util.cc:348] Sets are not currently considered sequences, but this may change in the future, so consider avoiding using them.\n",
      "/home/avt481/.conda/envs/tensor/lib/python3.9/site-packages/tensorflow/python/keras/utils/generic_utils.py:494: CustomMaskWarning: Custom mask layers require a config and must override get_config. When loading, the custom mask layer must be passed to the custom_objects argument.\n",
      "  warnings.warn('Custom mask layers require a config and must override '\n"
     ]
    },
    {
     "name": "stdout",
     "output_type": "stream",
     "text": [
      "INFO:tensorflow:Assets written to: saved_model/model2_step_01_transfer_learned_model_cleaned_input_10_epochs/assets\n"
     ]
    }
   ],
   "source": [
    "# save the model.\n",
    "# !mkdir -p saved_model\n",
    "model.save('saved_model/model2_step_01_transfer_learned_model_cleaned_input_10_epochs')\n",
    "# later, to load the model\n",
    "# model = tf.keras.models.load_model('saved_model/01_initial_transfer_learned_model')"
   ]
  },
  {
   "cell_type": "code",
   "execution_count": 25,
   "metadata": {
    "execution": {
     "iopub.execute_input": "2021-06-16T19:28:07.977209Z",
     "iopub.status.busy": "2021-06-16T19:28:07.973253Z",
     "iopub.status.idle": "2021-06-16T19:28:08.297467Z",
     "shell.execute_reply": "2021-06-16T19:28:08.297862Z"
    },
    "id": "53OTCh3jnbwV"
   },
   "outputs": [
    {
     "data": {
      "image/png": "[encoded data removed]",
      "text/plain": [
       "<Figure size 576x576 with 2 Axes>"
      ]
     },
     "metadata": {
      "needs_background": "light"
     },
     "output_type": "display_data"
    }
   ],
   "source": [
    "acc = history.history['accuracy']\n",
    "val_acc = history.history['val_accuracy']\n",
    "\n",
    "loss = history.history['loss']\n",
    "val_loss = history.history['val_loss']\n",
    "\n",
    "plt.figure(figsize=(8, 8))\n",
    "plt.subplot(2, 1, 1)\n",
    "plt.plot(acc, label='Training Accuracy')\n",
    "plt.plot(val_acc, label='Validation Accuracy')\n",
    "plt.legend(loc='lower right')\n",
    "plt.ylabel('Accuracy')\n",
    "plt.ylim([min(plt.ylim()),1])\n",
    "plt.title('Training and Validation Accuracy')\n",
    "\n",
    "plt.subplot(2, 1, 2)\n",
    "plt.plot(loss, label='Training Loss')\n",
    "plt.plot(val_loss, label='Validation Loss')\n",
    "plt.legend(loc='upper right')\n",
    "plt.ylabel('Cross Entropy')\n",
    "plt.ylim([0,1.0])\n",
    "plt.title('Training and Validation Loss')\n",
    "plt.xlabel('epoch')\n",
    "plt.show()"
   ]
  },
  {
   "cell_type": "markdown",
   "metadata": {
    "id": "foWMyyUHbc1j"
   },
   "source": [
    "Note: If you are wondering why the validation metrics are clearly better than the training metrics, the main factor is because layers like `tf.keras.layers.BatchNormalization` and `tf.keras.layers.Dropout` affect accuracy during training. They are turned off when calculating validation loss.\n",
    "\n",
    "To a lesser extent, it is also because training metrics report the average for an epoch, while validation metrics are evaluated after the epoch, so validation metrics see a model that has trained slightly longer."
   ]
  },
  {
   "cell_type": "markdown",
   "metadata": {
    "id": "CqwV-CRdS6Nv"
   },
   "source": [
    "## Fine tuning\n",
    "In the feature extraction experiment, you were only training a few layers on top of an MobileNet V2 base model. The weights of the pre-trained network were **not** updated during training.\n",
    "\n",
    "One way to increase performance even further is to train (or \"fine-tune\") the weights of the top layers of the pre-trained model alongside the training of the classifier you added. The training process will force the weights to be tuned from generic feature maps to features associated specifically with the dataset.\n",
    "\n",
    "Note: This should only be attempted after you have trained the top-level classifier with the pre-trained model set to non-trainable. If you add a randomly initialized classifier on top of a pre-trained model and attempt to train all layers jointly, the magnitude of the gradient updates will be too large (due to the random weights from the classifier) and your pre-trained model will forget what it has learned.\n",
    "\n",
    "Also, you should try to fine-tune a small number of top layers rather than the whole MobileNet model. In most convolutional networks, the higher up a layer is, the more specialized it is. The first few layers learn very simple and generic features that generalize to almost all types of images. As you go higher up, the features are increasingly more specific to the dataset on which the model was trained. The goal of fine-tuning is to adapt these specialized features to work with the new dataset, rather than overwrite the generic learning."
   ]
  },
  {
   "cell_type": "markdown",
   "metadata": {
    "id": "CPXnzUK0QonF"
   },
   "source": [
    "### Un-freeze the top layers of the model\n"
   ]
  },
  {
   "cell_type": "markdown",
   "metadata": {
    "id": "rfxv_ifotQak"
   },
   "source": [
    "All you need to do is unfreeze the `base_model` and set the bottom layers to be un-trainable. Then, you should recompile the model (necessary for these changes to take effect), and resume training."
   ]
  },
  {
   "cell_type": "code",
   "execution_count": 26,
   "metadata": {
    "execution": {
     "iopub.execute_input": "2021-06-16T19:28:08.305181Z",
     "iopub.status.busy": "2021-06-16T19:28:08.304566Z",
     "iopub.status.idle": "2021-06-16T19:28:08.306234Z",
     "shell.execute_reply": "2021-06-16T19:28:08.306568Z"
    },
    "id": "4nzcagVitLQm"
   },
   "outputs": [],
   "source": [
    "base_model.trainable = True"
   ]
  },
  {
   "cell_type": "code",
   "execution_count": 27,
   "metadata": {
    "execution": {
     "iopub.execute_input": "2021-06-16T19:28:08.312631Z",
     "iopub.status.busy": "2021-06-16T19:28:08.312041Z",
     "iopub.status.idle": "2021-06-16T19:28:08.314486Z",
     "shell.execute_reply": "2021-06-16T19:28:08.314065Z"
    },
    "id": "-4HgVAacRs5v"
   },
   "outputs": [
    {
     "name": "stdout",
     "output_type": "stream",
     "text": [
      "Number of layers in the base model:  154\n"
     ]
    }
   ],
   "source": [
    "# Let's take a look to see how many layers are in the base model\n",
    "print(\"Number of layers in the base model: \", len(base_model.layers))\n",
    "\n",
    "# Fine-tune from this layer onwards\n",
    "fine_tune_at = 100\n",
    "\n",
    "# Freeze all the layers before the `fine_tune_at` layer\n",
    "for layer in base_model.layers[:fine_tune_at]:\n",
    "  layer.trainable =  False"
   ]
  },
  {
   "cell_type": "markdown",
   "metadata": {
    "id": "4Uk1dgsxT0IS"
   },
   "source": [
    "### Compile the model\n",
    "\n",
    "As you are training a much larger model and want to readapt the pretrained weights, it is important to use a lower learning rate at this stage. Otherwise, your model could overfit very quickly."
   ]
  },
  {
   "cell_type": "code",
   "execution_count": 28,
   "metadata": {
    "execution": {
     "iopub.execute_input": "2021-06-16T19:28:08.319940Z",
     "iopub.status.busy": "2021-06-16T19:28:08.319291Z",
     "iopub.status.idle": "2021-06-16T19:28:08.326025Z",
     "shell.execute_reply": "2021-06-16T19:28:08.326385Z"
    },
    "id": "NtUnaz0WUDva"
   },
   "outputs": [
    {
     "name": "stderr",
     "output_type": "stream",
     "text": [
      "/home/avt481/.conda/envs/tensor/lib/python3.9/site-packages/tensorflow/python/keras/optimizer_v2/optimizer_v2.py:374: UserWarning: The `lr` argument is deprecated, use `learning_rate` instead.\n",
      "  warnings.warn(\n"
     ]
    }
   ],
   "source": [
    "model.compile(loss=tf.keras.losses.BinaryCrossentropy(from_logits=True),\n",
    "              optimizer = tf.keras.optimizers.RMSprop(lr=base_learning_rate/10),\n",
    "              metrics=['accuracy'])"
   ]
  },
  {
   "cell_type": "code",
   "execution_count": 29,
   "metadata": {
    "execution": {
     "iopub.execute_input": "2021-06-16T19:28:08.336087Z",
     "iopub.status.busy": "2021-06-16T19:28:08.335502Z",
     "iopub.status.idle": "2021-06-16T19:28:08.338819Z",
     "shell.execute_reply": "2021-06-16T19:28:08.339222Z"
    },
    "id": "WwBWy7J2kZvA"
   },
   "outputs": [
    {
     "name": "stdout",
     "output_type": "stream",
     "text": [
      "Model: \"model\"\n",
      "_________________________________________________________________\n",
      "Layer (type)                 Output Shape              Param #   \n",
      "=================================================================\n",
      "input_2 (InputLayer)         [(None, 160, 160, 3)]     0         \n",
      "_________________________________________________________________\n",
      "tf.math.truediv (TFOpLambda) (None, 160, 160, 3)       0         \n",
      "_________________________________________________________________\n",
      "tf.math.subtract (TFOpLambda (None, 160, 160, 3)       0         \n",
      "_________________________________________________________________\n",
      "mobilenetv2_1.00_160 (Functi (None, 5, 5, 1280)        2257984   \n",
      "_________________________________________________________________\n",
      "global_average_pooling2d (Gl (None, 1280)              0         \n",
      "_________________________________________________________________\n",
      "dropout (Dropout)            (None, 1280)              0         \n",
      "_________________________________________________________________\n",
      "dense (Dense)                (None, 1)                 1281      \n",
      "=================================================================\n",
      "Total params: 2,259,265\n",
      "Trainable params: 1,862,721\n",
      "Non-trainable params: 396,544\n",
      "_________________________________________________________________\n"
     ]
    }
   ],
   "source": [
    "model.summary()"
   ]
  },
  {
   "cell_type": "code",
   "execution_count": 30,
   "metadata": {
    "execution": {
     "iopub.execute_input": "2021-06-16T19:28:08.343053Z",
     "iopub.status.busy": "2021-06-16T19:28:08.342422Z",
     "iopub.status.idle": "2021-06-16T19:28:08.345104Z",
     "shell.execute_reply": "2021-06-16T19:28:08.344673Z"
    },
    "id": "bNXelbMQtonr"
   },
   "outputs": [
    {
     "data": {
      "text/plain": [
       "56"
      ]
     },
     "execution_count": 30,
     "metadata": {},
     "output_type": "execute_result"
    }
   ],
   "source": [
    "len(model.trainable_variables)"
   ]
  },
  {
   "cell_type": "markdown",
   "metadata": {
    "id": "4G5O4jd6TuAG"
   },
   "source": [
    "### Continue training the model"
   ]
  },
  {
   "cell_type": "markdown",
   "metadata": {
    "id": "0foWUN-yDLo_"
   },
   "source": [
    "If you trained to convergence earlier, this step will improve your accuracy by a few percentage points."
   ]
  },
  {
   "cell_type": "code",
   "execution_count": 31,
   "metadata": {
    "execution": {
     "iopub.execute_input": "2021-06-16T19:28:08.349903Z",
     "iopub.status.busy": "2021-06-16T19:28:08.349116Z",
     "iopub.status.idle": "2021-06-16T19:28:32.290129Z",
     "shell.execute_reply": "2021-06-16T19:28:32.289639Z"
    },
    "id": "ECQLkAsFTlun"
   },
   "outputs": [
    {
     "name": "stdout",
     "output_type": "stream",
     "text": [
      "Epoch 10/20\n",
      "547/547 [==============================] - 619s 1s/step - loss: 0.3730 - accuracy: 0.8419 - val_loss: 0.3575 - val_accuracy: 0.8761\n",
      "Epoch 11/20\n",
      "547/547 [==============================] - 613s 1s/step - loss: 0.3077 - accuracy: 0.8764 - val_loss: 0.2884 - val_accuracy: 0.8992\n",
      "Epoch 12/20\n",
      "547/547 [==============================] - 613s 1s/step - loss: 0.2768 - accuracy: 0.8900 - val_loss: 0.2681 - val_accuracy: 0.8877\n",
      "Epoch 13/20\n",
      "547/547 [==============================] - 611s 1s/step - loss: 0.2531 - accuracy: 0.9008 - val_loss: 0.2618 - val_accuracy: 0.8979\n",
      "Epoch 14/20\n",
      "547/547 [==============================] - 613s 1s/step - loss: 0.2373 - accuracy: 0.9091 - val_loss: 0.2642 - val_accuracy: 0.8954\n",
      "Epoch 15/20\n",
      "547/547 [==============================] - 611s 1s/step - loss: 0.2220 - accuracy: 0.9147 - val_loss: 0.2485 - val_accuracy: 0.8999\n",
      "Epoch 16/20\n",
      "547/547 [==============================] - 610s 1s/step - loss: 0.2074 - accuracy: 0.9207 - val_loss: 0.2687 - val_accuracy: 0.8973\n",
      "Epoch 17/20\n",
      "547/547 [==============================] - 612s 1s/step - loss: 0.1953 - accuracy: 0.9255 - val_loss: 0.2913 - val_accuracy: 0.9024\n",
      "Epoch 18/20\n",
      "547/547 [==============================] - 611s 1s/step - loss: 0.1826 - accuracy: 0.9295 - val_loss: 0.2738 - val_accuracy: 0.9069\n",
      "Epoch 19/20\n",
      "547/547 [==============================] - 611s 1s/step - loss: 0.1714 - accuracy: 0.9337 - val_loss: 0.2697 - val_accuracy: 0.9108\n",
      "Epoch 20/20\n",
      "547/547 [==============================] - 613s 1s/step - loss: 0.1599 - accuracy: 0.9386 - val_loss: 0.2677 - val_accuracy: 0.9031\n"
     ]
    }
   ],
   "source": [
    "fine_tune_epochs = 10\n",
    "total_epochs =  initial_epochs + fine_tune_epochs\n",
    "\n",
    "history_fine = model.fit(train_dataset,\n",
    "                         epochs=total_epochs,\n",
    "                         initial_epoch=history.epoch[-1],\n",
    "                         validation_data=validation_dataset)"
   ]
  },
  {
   "cell_type": "code",
   "execution_count": null,
   "metadata": {},
   "outputs": [],
   "source": [
    "run2:\n",
    "Epoch 10/20\n",
    "503/503 [==============================] - 683s 1s/step - loss: 0.3612 - accuracy: 0.8417 - val_loss: 0.2765 - val_accuracy: 0.8882\n",
    "Epoch 11/20\n",
    "503/503 [==============================] - 681s 1s/step - loss: 0.2580 - accuracy: 0.9008 - val_loss: 0.2538 - val_accuracy: 0.9158\n",
    "Epoch 12/20\n",
    "503/503 [==============================] - 689s 1s/step - loss: 0.2241 - accuracy: 0.9170 - val_loss: 0.2401 - val_accuracy: 0.9050\n",
    "Epoch 13/20\n",
    "503/503 [==============================] - 699s 1s/step - loss: 0.1996 - accuracy: 0.9258 - val_loss: 0.2034 - val_accuracy: 0.9194\n",
    "Epoch 14/20\n",
    "503/503 [==============================] - 680s 1s/step - loss: 0.1827 - accuracy: 0.9357 - val_loss: 0.2050 - val_accuracy: 0.9272\n",
    "Epoch 15/20\n",
    "503/503 [==============================] - 681s 1s/step - loss: 0.1682 - accuracy: 0.9390 - val_loss: 0.1930 - val_accuracy: 0.9296\n",
    "Epoch 16/20\n",
    "503/503 [==============================] - 687s 1s/step - loss: 0.1570 - accuracy: 0.9436 - val_loss: 0.1856 - val_accuracy: 0.9302\n",
    "Epoch 17/20\n",
    "503/503 [==============================] - 680s 1s/step - loss: 0.1462 - accuracy: 0.9477 - val_loss: 0.1971 - val_accuracy: 0.9248\n",
    "Epoch 18/20\n",
    "503/503 [==============================] - 693s 1s/step - loss: 0.1340 - accuracy: 0.9520 - val_loss: 0.2233 - val_accuracy: 0.9164\n",
    "Epoch 19/20\n",
    "503/503 [==============================] - 678s 1s/step - loss: 0.1255 - accuracy: 0.9559 - val_loss: 0.2047 - val_accuracy: 0.9254\n",
    "Epoch 20/20\n",
    "503/503 [==============================] - 687s 1s/step - loss: 0.1157 - accuracy: 0.9582 - val_loss: 0.2064 - val_accuracy: 0.9284"
   ]
  },
  {
   "cell_type": "code",
   "execution_count": 32,
   "metadata": {},
   "outputs": [
    {
     "name": "stderr",
     "output_type": "stream",
     "text": [
      "/home/avt481/.conda/envs/tensor/lib/python3.9/site-packages/tensorflow/python/keras/utils/generic_utils.py:494: CustomMaskWarning: Custom mask layers require a config and must override get_config. When loading, the custom mask layer must be passed to the custom_objects argument.\n",
      "  warnings.warn('Custom mask layers require a config and must override '\n"
     ]
    },
    {
     "name": "stdout",
     "output_type": "stream",
     "text": [
      "INFO:tensorflow:Assets written to: saved_model/model2_step_02_transfer_learned_model_cleaned_input_20_epochs_fine_tuned/assets\n"
     ]
    }
   ],
   "source": [
    "model.save('saved_model/model2_step_02_transfer_learned_model_cleaned_input_20_epochs_fine_tuned')"
   ]
  },
  {
   "cell_type": "code",
   "execution_count": 72,
   "metadata": {},
   "outputs": [
    {
     "name": "stdout",
     "output_type": "stream",
     "text": [
      "/n/data1/hms/dbmi/park/simon_chu/projects/shared/toAntuan/machine_learning_training_data/FP/ewing_sarcoma_FP/Alu/Alu_FM_VQ4QEK0X_chr6_8369218_8369219.png\n",
      "/n/data1/hms/dbmi/park/simon_chu/projects/shared/toAntuan/machine_learning_training_data/FP/ewing_sarcoma_FP/Alu/Alu_FM_J12ERCJX_chr8_68674895_68674896.png\n",
      "/n/data1/hms/dbmi/park/simon_chu/projects/shared/toAntuan/machine_learning_training_data/FP/ewing_sarcoma_FP/Alu/Alu_FM_N9MPHKFK_chr12_121784274_121784275.png\n",
      "/n/data1/hms/dbmi/park/simon_chu/projects/shared/toAntuan/machine_learning_training_data/FP/ewing_sarcoma_FP/Alu/Alu_FM_GV6ENB1E_chr6_32612451_32612452.png\n",
      "/n/data1/hms/dbmi/park/simon_chu/projects/shared/toAntuan/machine_learning_training_data/FP/ewing_sarcoma_FP/Alu/Alu_FM_QFYKJW7Z_chr13_49599222_49599223.png\n",
      "/n/data1/hms/dbmi/park/simon_chu/projects/shared/toAntuan/machine_learning_training_data/FP/ewing_sarcoma_FP/Alu/Alu_FM_MD68DFCH_chr3_141112644_141112645.png\n",
      "/n/data1/hms/dbmi/park/simon_chu/projects/shared/toAntuan/machine_learning_training_data/FP/ewing_sarcoma_FP/Alu/Alu_FM_NSA7MAYR_chr19_40469990_40469991.png\n",
      "/n/data1/hms/dbmi/park/simon_chu/projects/shared/toAntuan/machine_learning_training_data/FP/ewing_sarcoma_FP/Alu/Alu_FM_J12ERCJX_chrX_151223367_151223368.png\n",
      "/n/data1/hms/dbmi/park/simon_chu/projects/shared/toAntuan/machine_learning_training_data/FP/ewing_sarcoma_FP/Alu/Alu_FM_J12ERCJX_chr18_56631060_56631061.png\n",
      "/n/data1/hms/dbmi/park/simon_chu/projects/shared/toAntuan/machine_learning_training_data/FP/ewing_sarcoma_FP/Alu/Alu_FM_SPF8K560_chr2_76746382_76746383.png\n",
      "/n/data1/hms/dbmi/park/simon_chu/projects/shared/toAntuan/machine_learning_training_data/FP/ewing_sarcoma_FP/Alu/Alu_FM_N9MPHKFK_chr3_1879614_1879615.png\n",
      "/n/data1/hms/dbmi/park/simon_chu/projects/shared/toAntuan/machine_learning_training_data/FP/ewing_sarcoma_FP/Alu/Alu_FM_XW92SJ5F_chr2_42502813_42502814.png\n",
      "/n/data1/hms/dbmi/park/simon_chu/projects/shared/toAntuan/machine_learning_training_data/FP/ewing_sarcoma_FP/Alu/Alu_FM_V1WZZGBN_chr8_18616628_18616629.png\n",
      "/n/data1/hms/dbmi/park/simon_chu/projects/shared/toAntuan/machine_learning_training_data/FP/ewing_sarcoma_FP/Alu/Alu_FM_QQRY6KJ0_chr7_105633487_105633488.png\n",
      "/n/data1/hms/dbmi/park/simon_chu/projects/shared/toAntuan/machine_learning_training_data/FP/ewing_sarcoma_FP/Alu/Alu_FM_THSHJX5T_chr1_171426069_171426070.png\n",
      "/n/data1/hms/dbmi/park/simon_chu/projects/shared/toAntuan/machine_learning_training_data/FP/ewing_sarcoma_FP/Alu/Alu_FM_KRNAZYET_chr3_23988208_23988209.png\n",
      "/n/data1/hms/dbmi/park/simon_chu/projects/shared/toAntuan/machine_learning_training_data/FP/ewing_sarcoma_FP/Alu/Alu_FM_V1WZZGBN_chr6_87768564_87768565.png\n",
      "/n/data1/hms/dbmi/park/simon_chu/projects/shared/toAntuan/machine_learning_training_data/FP/ewing_sarcoma_FP/Alu/Alu_FM_TATC0PVF_chr10_22516671_22516672.png\n",
      "/n/data1/hms/dbmi/park/simon_chu/projects/shared/toAntuan/machine_learning_training_data/FP/ewing_sarcoma_FP/Alu/Alu_FM_NSA7VAP2_chr22_47431594_47431595.png\n",
      "/n/data1/hms/dbmi/park/simon_chu/projects/shared/toAntuan/machine_learning_training_data/FP/ewing_sarcoma_FP/Alu/Alu_FM_GV6ENB1E_chr5_103489125_103489126.png\n",
      "/n/data1/hms/dbmi/park/simon_chu/projects/shared/toAntuan/machine_learning_training_data/FP/ewing_sarcoma_FP/Alu/Alu_FM_V1WZZGBN_chr4_125794209_125794210.png\n",
      "/n/data1/hms/dbmi/park/simon_chu/projects/shared/toAntuan/machine_learning_training_data/FP/ewing_sarcoma_FP/Alu/Alu_FM_QYSDC44P_chr12_59888490_59888491.png\n",
      "/n/data1/hms/dbmi/park/simon_chu/projects/shared/toAntuan/machine_learning_training_data/FP/ewing_sarcoma_FP/Alu/Alu_FM_HAREER7N_chr1_46213358_46213359.png\n",
      "/n/data1/hms/dbmi/park/simon_chu/projects/shared/toAntuan/machine_learning_training_data/FP/ewing_sarcoma_FP/Alu/Alu_FM_HFT857S3_chr1_230222044_230222045.png\n",
      "/n/data1/hms/dbmi/park/simon_chu/projects/shared/toAntuan/machine_learning_training_data/FP/ewing_sarcoma_FP/Alu/Alu_FM_QFYKJW7Z_chr6_62504956_62504957.png\n",
      "/n/data1/hms/dbmi/park/simon_chu/projects/shared/toAntuan/machine_learning_training_data/FP/ewing_sarcoma_FP/Alu/Alu_FM_TD530WQS_chr13_73390558_73390559.png\n",
      "/n/data1/hms/dbmi/park/simon_chu/projects/shared/toAntuan/machine_learning_training_data/FP/ewing_sarcoma_FP/Alu/Alu_FM_K4V4QQVR_chr12_19412626_19412627.png\n",
      "/n/data1/hms/dbmi/park/simon_chu/projects/shared/toAntuan/machine_learning_training_data/FP/ewing_sarcoma_FP/Alu/Alu_FM_V1WZZGBN_chr11_99727312_99727313.png\n",
      "/n/data1/hms/dbmi/park/simon_chu/projects/shared/toAntuan/machine_learning_training_data/FP/ewing_sarcoma_FP/Alu/Alu_FM_QBK86MTX_chr12_47919581_47919582.png\n",
      "/n/data1/hms/dbmi/park/simon_chu/projects/shared/toAntuan/machine_learning_training_data/FP/ewing_sarcoma_FP/Alu/Alu_FM_WNF4XZRW_chr6_32612451_32612452.png\n",
      "/n/data1/hms/dbmi/park/simon_chu/projects/shared/toAntuan/machine_learning_training_data/FP/ewing_sarcoma_FP/Alu/Alu_FM_NSA7VAP2_chr8_142956767_142956768.png\n",
      "/n/data1/hms/dbmi/park/simon_chu/projects/shared/toAntuan/machine_learning_training_data/FP/ewing_sarcoma_FP/Alu/Alu_FM_NSA7MAYR_chr17_3284831_3284832.png\n",
      "/n/data1/hms/dbmi/park/simon_chu/projects/shared/toAntuan/machine_learning_training_data/FP/ewing_sarcoma_FP/Alu/Alu_FM_GV6ENB1E_chr18_68554379_68554380.png\n",
      "/n/data1/hms/dbmi/park/simon_chu/projects/shared/toAntuan/machine_learning_training_data/FP/ewing_sarcoma_FP/Alu/Alu_FM_GV6ENB1E_chr10_131191864_131191865.png\n",
      "/n/data1/hms/dbmi/park/simon_chu/projects/shared/toAntuan/machine_learning_training_data/FP/ewing_sarcoma_FP/Alu/Alu_FM_MJQXYRXK_chr2_231558288_231558289.png\n",
      "/n/data1/hms/dbmi/park/simon_chu/projects/shared/toAntuan/machine_learning_training_data/FP/ewing_sarcoma_FP/Alu/Alu_FM_G79E6DSV_chr16_4621087_4621088.png\n",
      "/n/data1/hms/dbmi/park/simon_chu/projects/shared/toAntuan/machine_learning_training_data/FP/ewing_sarcoma_FP/Alu/Alu_FM_G79E6DSV_chr19_2655873_2655874.png\n",
      "/n/data1/hms/dbmi/park/simon_chu/projects/shared/toAntuan/machine_learning_training_data/FP/ewing_sarcoma_FP/Alu/Alu_FM_QJ2R5SEA_chr2_222027829_222027830.png\n",
      "/n/data1/hms/dbmi/park/simon_chu/projects/shared/toAntuan/machine_learning_training_data/FP/ewing_sarcoma_FP/Alu/Alu_FM_M1E7BPDJ_chr1_63038552_63038553.png\n",
      "/n/data1/hms/dbmi/park/simon_chu/projects/shared/toAntuan/machine_learning_training_data/FP/ewing_sarcoma_FP/Alu/Alu_FM_TATC0PVF_chr2_134928274_134928275.png\n",
      "/n/data1/hms/dbmi/park/simon_chu/projects/shared/toAntuan/machine_learning_training_data/FP/ewing_sarcoma_FP/Alu/Alu_FM_MJQXYRXK_chr10_14937505_14937506.png\n",
      "/n/data1/hms/dbmi/park/simon_chu/projects/shared/toAntuan/machine_learning_training_data/FP/ewing_sarcoma_FP/Alu/Alu_FM_YGV6JE8N_chr3_73785524_73785525.png\n",
      "/n/data1/hms/dbmi/park/simon_chu/projects/shared/toAntuan/machine_learning_training_data/FP/ewing_sarcoma_FP/Alu/Alu_FM_QH4YH0XJ_chr13_37567235_37567236.png\n",
      "/n/data1/hms/dbmi/park/simon_chu/projects/shared/toAntuan/machine_learning_training_data/FP/ewing_sarcoma_FP/Alu/Alu_FM_KA9H8ZDP_chr3_1879614_1879615.png\n",
      "/n/data1/hms/dbmi/park/simon_chu/projects/shared/toAntuan/machine_learning_training_data/FP/ewing_sarcoma_FP/Alu/Alu_FM_PD23TM7Z_chr1_42058546_42058547.png\n",
      "/n/data1/hms/dbmi/park/simon_chu/projects/shared/toAntuan/machine_learning_training_data/FP/ewing_sarcoma_FP/Alu/Alu_FM_MD68DFCH_chr3_23615015_23615016.png\n",
      "/n/data1/hms/dbmi/park/simon_chu/projects/shared/toAntuan/machine_learning_training_data/FP/ewing_sarcoma_FP/Alu/Alu_FM_KC7NJYQY_chr3_141351723_141351724.png\n",
      "/n/data1/hms/dbmi/park/simon_chu/projects/shared/toAntuan/machine_learning_training_data/FP/ewing_sarcoma_FP/Alu/Alu_FM_MD68DFCH_chr5_166960778_166960779.png\n",
      "/n/data1/hms/dbmi/park/simon_chu/projects/shared/toAntuan/machine_learning_training_data/FP/ewing_sarcoma_FP/Alu/Alu_FM_QWEWHBKG_chr19_40439077_40439078.png\n",
      "/n/data1/hms/dbmi/park/simon_chu/projects/shared/toAntuan/machine_learning_training_data/FP/ewing_sarcoma_FP/Alu/Alu_FM_HMP35VFZ_chrX_91080662_91080663.png\n",
      "/n/data1/hms/dbmi/park/simon_chu/projects/shared/toAntuan/machine_learning_training_data/FP/ewing_sarcoma_FP/Alu/Alu_FM_NSA7MAYR_chr17_3797144_3797145.png\n",
      "/n/data1/hms/dbmi/park/simon_chu/projects/shared/toAntuan/machine_learning_training_data/FP/ewing_sarcoma_FP/Alu/Alu_FM_X69ZFB11_chr6_41124216_41124217.png\n",
      "/n/data1/hms/dbmi/park/simon_chu/projects/shared/toAntuan/machine_learning_training_data/FP/ewing_sarcoma_FP/Alu/Alu_FM_VQ4QEK0X_chr4_119348266_119348267.png\n"
     ]
    },
    {
     "name": "stdout",
     "output_type": "stream",
     "text": [
      "/n/data1/hms/dbmi/park/simon_chu/projects/shared/toAntuan/machine_learning_training_data/FP/ewing_sarcoma_FP/Alu/Alu_FM_N9MPHKFK_chr5_29922671_29922672.png\n",
      "/n/data1/hms/dbmi/park/simon_chu/projects/shared/toAntuan/machine_learning_training_data/FP/ewing_sarcoma_FP/Alu/Alu_FM_MBHQ0GD3_chr15_69373916_69373917.png\n",
      "/n/data1/hms/dbmi/park/simon_chu/projects/shared/toAntuan/machine_learning_training_data/FP/ewing_sarcoma_FP/Alu/Alu_FM_V5CCAJB5_chr3_109322777_109322778.png\n",
      "/n/data1/hms/dbmi/park/simon_chu/projects/shared/toAntuan/machine_learning_training_data/FP/ewing_sarcoma_FP/Alu/Alu_FM_YF2SSTEX_chr18_27864910_27864911.png\n",
      "/n/data1/hms/dbmi/park/simon_chu/projects/shared/toAntuan/machine_learning_training_data/FP/ewing_sarcoma_FP/Alu/Alu_FM_THSHJX5T_chr1_224259839_224259840.png\n",
      "/n/data1/hms/dbmi/park/simon_chu/projects/shared/toAntuan/machine_learning_training_data/FP/ewing_sarcoma_FP/Alu/Alu_FM_SPF8K560_chr20_50445165_50445166.png\n",
      "/n/data1/hms/dbmi/park/simon_chu/projects/shared/toAntuan/machine_learning_training_data/FP/ewing_sarcoma_FP/Alu/Alu_FM_T1MR2K5C_chr8_64920115_64920116.png\n",
      "/n/data1/hms/dbmi/park/simon_chu/projects/shared/toAntuan/machine_learning_training_data/FP/ewing_sarcoma_FP/Alu/Alu_FM_KRNAZYET_chr19_17288842_17288843.png\n",
      "/n/data1/hms/dbmi/park/simon_chu/projects/shared/toAntuan/machine_learning_training_data/FP/ewing_sarcoma_FP/Alu/Alu_FM_GV6ENB1E_chr19_52180087_52180088.png\n",
      "/n/data1/hms/dbmi/park/simon_chu/projects/shared/toAntuan/machine_learning_training_data/FP/ewing_sarcoma_FP/Alu/Alu_FM_T1RBN0PE_chrX_151654114_151654115.png\n",
      "/n/data1/hms/dbmi/park/simon_chu/projects/shared/toAntuan/machine_learning_training_data/FP/ewing_sarcoma_FP/Alu/Alu_FM_NSA7VAP2_chr17_62183924_62183925.png\n",
      "/n/data1/hms/dbmi/park/simon_chu/projects/shared/toAntuan/machine_learning_training_data/FP/ewing_sarcoma_FP/Alu/Alu_FM_MJQXYRXK_chr12_101183035_101183036.png\n",
      "/n/data1/hms/dbmi/park/simon_chu/projects/shared/toAntuan/machine_learning_training_data/FP/ewing_sarcoma_FP/Alu/Alu_FM_G79E6DSV_chr16_2444504_2444505.png\n",
      "/n/data1/hms/dbmi/park/simon_chu/projects/shared/toAntuan/machine_learning_training_data/FP/ewing_sarcoma_FP/Alu/Alu_FM_GN4PWZY4_chr17_46278802_46278803.png\n",
      "/n/data1/hms/dbmi/park/simon_chu/projects/shared/toAntuan/machine_learning_training_data/FP/ewing_sarcoma_FP/Alu/Alu_FM_KC7NJYQY_chr10_19108425_19108426.png\n",
      "/n/data1/hms/dbmi/park/simon_chu/projects/shared/toAntuan/machine_learning_training_data/FP/ewing_sarcoma_FP/Alu/Alu_FM_MD68DFCH_chr15_56002976_56002977.png\n",
      "/n/data1/hms/dbmi/park/simon_chu/projects/shared/toAntuan/machine_learning_training_data/FP/ewing_sarcoma_FP/Alu/Alu_FM_MD68DFCH_chr1_112851817_112851818.png\n",
      "/n/data1/hms/dbmi/park/simon_chu/projects/shared/toAntuan/machine_learning_training_data/FP/ewing_sarcoma_FP/Alu/Alu_FM_VQ4QEK0X_chr13_42648452_42648453.png\n",
      "/n/data1/hms/dbmi/park/simon_chu/projects/shared/toAntuan/machine_learning_training_data/FP/ewing_sarcoma_FP/Alu/Alu_FM_JVT8HH62_chr17_9718678_9718679.png\n",
      "/n/data1/hms/dbmi/park/simon_chu/projects/shared/toAntuan/machine_learning_training_data/FP/ewing_sarcoma_FP/Alu/Alu_FM_THSHJX5T_chr15_85842630_85842631.png\n",
      "/n/data1/hms/dbmi/park/simon_chu/projects/shared/toAntuan/machine_learning_training_data/FP/ewing_sarcoma_FP/Alu/Alu_FM_PD23TM7Z_chr17_81817446_81817447.png\n",
      "/n/data1/hms/dbmi/park/simon_chu/projects/shared/toAntuan/machine_learning_training_data/FP/ewing_sarcoma_FP/Alu/Alu_FM_V8YZ6AXD_chr1_11946996_11946997.png\n",
      "/n/data1/hms/dbmi/park/simon_chu/projects/shared/toAntuan/machine_learning_training_data/FP/ewing_sarcoma_FP/Alu/Alu_FM_XBA1FM5C_chr5_95409472_95409473.png\n",
      "/n/data1/hms/dbmi/park/simon_chu/projects/shared/toAntuan/machine_learning_training_data/FP/ewing_sarcoma_FP/Alu/Alu_FM_VQ4QEK0X_chr10_10908233_10908234.png\n",
      "/n/data1/hms/dbmi/park/simon_chu/projects/shared/toAntuan/machine_learning_training_data/FP/ewing_sarcoma_FP/Alu/Alu_FM_GN4PWZY4_chr18_4707508_4707509.png\n",
      "/n/data1/hms/dbmi/park/simon_chu/projects/shared/toAntuan/machine_learning_training_data/FP/ewing_sarcoma_FP/Alu/Alu_FM_RG7KMJ46_chr3_86248426_86248427.png\n",
      "/n/data1/hms/dbmi/park/simon_chu/projects/shared/toAntuan/machine_learning_training_data/FP/ewing_sarcoma_FP/Alu/Alu_FM_QJ2R5SEA_chr7_57246383_57246384.png\n",
      "/n/data1/hms/dbmi/park/simon_chu/projects/shared/toAntuan/machine_learning_training_data/FP/ewing_sarcoma_FP/Alu/Alu_FM_NSA7VAP2_chr7_135666547_135666548.png\n",
      "/n/data1/hms/dbmi/park/simon_chu/projects/shared/toAntuan/machine_learning_training_data/FP/ewing_sarcoma_FP/Alu/Alu_FM_YPYR382H_chr10_26903565_26903566.png\n",
      "/n/data1/hms/dbmi/park/simon_chu/projects/shared/toAntuan/machine_learning_training_data/FP/ewing_sarcoma_FP/Alu/Alu_FM_QWEWHBKG_chr10_68540223_68540224.png\n",
      "/n/data1/hms/dbmi/park/simon_chu/projects/shared/toAntuan/machine_learning_training_data/FP/ewing_sarcoma_FP/Alu/Alu_FM_YF2SSTEX_chr11_76294435_76294436.png\n",
      "/n/data1/hms/dbmi/park/simon_chu/projects/shared/toAntuan/machine_learning_training_data/FP/ewing_sarcoma_FP/Alu/Alu_FM_NSA7VAP2_chr5_119679459_119679460.png\n",
      "/n/data1/hms/dbmi/park/simon_chu/projects/shared/toAntuan/machine_learning_training_data/FP/ewing_sarcoma_FP/Alu/Alu_FM_HMP35VFZ_chr12_130852307_130852308.png\n",
      "/n/data1/hms/dbmi/park/simon_chu/projects/shared/toAntuan/machine_learning_training_data/FP/ewing_sarcoma_FP/Alu/Alu_FM_KRNAZYET_chr3_75700993_75700994.png\n",
      "/n/data1/hms/dbmi/park/simon_chu/projects/shared/toAntuan/machine_learning_training_data/FP/ewing_sarcoma_FP/Alu/Alu_FM_MD68DFCH_chr1_233122699_233122700.png\n",
      "/n/data1/hms/dbmi/park/simon_chu/projects/shared/toAntuan/machine_learning_training_data/FP/ewing_sarcoma_FP/Alu/Alu_FM_RG7KMJ46_chr4_66396382_66396383.png\n",
      "/n/data1/hms/dbmi/park/simon_chu/projects/shared/toAntuan/machine_learning_training_data/FP/ewing_sarcoma_FP/Alu/Alu_FM_XBA1FM5C_chr17_12406102_12406103.png\n",
      "/n/data1/hms/dbmi/park/simon_chu/projects/shared/toAntuan/machine_learning_training_data/FP/ewing_sarcoma_FP/Alu/Alu_FM_QH4YH0XJ_chr10_98688465_98688466.png\n",
      "/n/data1/hms/dbmi/park/simon_chu/projects/shared/toAntuan/machine_learning_training_data/FP/ewing_sarcoma_FP/Alu/Alu_FM_TMAT8GQ0_chr10_13126298_13126299.png\n",
      "/n/data1/hms/dbmi/park/simon_chu/projects/shared/toAntuan/machine_learning_training_data/FP/ewing_sarcoma_FP/Alu/Alu_FM_R791T19G_chr12_2380030_2380031.png\n",
      "/n/data1/hms/dbmi/park/simon_chu/projects/shared/toAntuan/machine_learning_training_data/FP/ewing_sarcoma_FP/Alu/Alu_FM_VQ4QEK0X_chr11_85982438_85982439.png\n",
      "/n/data1/hms/dbmi/park/simon_chu/projects/shared/toAntuan/machine_learning_training_data/FP/ewing_sarcoma_FP/Alu/Alu_FM_K6S31NTV_chr3_5234143_5234144.png\n",
      "/n/data1/hms/dbmi/park/simon_chu/projects/shared/toAntuan/machine_learning_training_data/FP/ewing_sarcoma_FP/Alu/Alu_FM_XBA1FM5C_chr8_73662631_73662632.png\n",
      "/n/data1/hms/dbmi/park/simon_chu/projects/shared/toAntuan/machine_learning_training_data/FP/ewing_sarcoma_FP/Alu/Alu_FM_QRJ0TNE0_chr8_31258941_31258942.png\n",
      "/n/data1/hms/dbmi/park/simon_chu/projects/shared/toAntuan/machine_learning_training_data/FP/ewing_sarcoma_FP/Alu/Alu_FM_K4V4QQVR_chr3_122934051_122934052.png\n",
      "/n/data1/hms/dbmi/park/simon_chu/projects/shared/toAntuan/machine_learning_training_data/FP/ewing_sarcoma_FP/Alu/Alu_FM_TMN6AQTJ_chr6_73958300_73958301.png\n",
      "/n/data1/hms/dbmi/park/simon_chu/projects/shared/toAntuan/machine_learning_training_data/FP/ewing_sarcoma_FP/Alu/Alu_FM_J63TA92N_chr22_49720944_49720945.png\n",
      "/n/data1/hms/dbmi/park/simon_chu/projects/shared/toAntuan/machine_learning_training_data/FP/ewing_sarcoma_FP/Alu/Alu_FM_Z21V20ZF_chr13_26252559_26252560.png\n",
      "/n/data1/hms/dbmi/park/simon_chu/projects/shared/toAntuan/machine_learning_training_data/FP/ewing_sarcoma_FP/Alu/Alu_FM_QBK86MTX_chr12_96539064_96539065.png\n",
      "/n/data1/hms/dbmi/park/simon_chu/projects/shared/toAntuan/machine_learning_training_data/FP/ewing_sarcoma_FP/Alu/Alu_FM_NSA7MAYR_chr1_13453454_13453455.png\n",
      "/n/data1/hms/dbmi/park/simon_chu/projects/shared/toAntuan/machine_learning_training_data/FP/ewing_sarcoma_FP/Alu/Alu_FM_J12ERCJX_chr6_129309917_129309918.png\n",
      "/n/data1/hms/dbmi/park/simon_chu/projects/shared/toAntuan/machine_learning_training_data/FP/ewing_sarcoma_FP/Alu/Alu_FM_XBA1FM5C_chr17_29366991_29366992.png\n",
      "/n/data1/hms/dbmi/park/simon_chu/projects/shared/toAntuan/machine_learning_training_data/FP/ewing_sarcoma_FP/Alu/Alu_FM_VNW723HW_chr7_147842009_147842010.png\n"
     ]
    },
    {
     "name": "stdout",
     "output_type": "stream",
     "text": [
      "/n/data1/hms/dbmi/park/simon_chu/projects/shared/toAntuan/machine_learning_training_data/FP/ewing_sarcoma_FP/Alu/Alu_FM_T1MR2K5C_chr8_18408232_18408233.png\n",
      "/n/data1/hms/dbmi/park/simon_chu/projects/shared/toAntuan/machine_learning_training_data/FP/ewing_sarcoma_FP/Alu/Alu_FM_RN931X19_chr12_4377448_4377449.png\n",
      "/n/data1/hms/dbmi/park/simon_chu/projects/shared/toAntuan/machine_learning_training_data/FP/ewing_sarcoma_FP/Alu/Alu_FM_GV6ENB1E_chr12_10048095_10048096.png\n",
      "/n/data1/hms/dbmi/park/simon_chu/projects/shared/toAntuan/machine_learning_training_data/FP/ewing_sarcoma_FP/Alu/Alu_FM_T1MR2K5C_chr11_63832039_63832040.png\n",
      "/n/data1/hms/dbmi/park/simon_chu/projects/shared/toAntuan/machine_learning_training_data/FP/ewing_sarcoma_FP/Alu/Alu_FM_T1MR2K5C_chr5_157864024_157864025.png\n",
      "/n/data1/hms/dbmi/park/simon_chu/projects/shared/toAntuan/machine_learning_training_data/FP/ewing_sarcoma_FP/Alu/Alu_FM_GV6ENB1E_chr6_135916410_135916411.png\n",
      "/n/data1/hms/dbmi/park/simon_chu/projects/shared/toAntuan/machine_learning_training_data/FP/ewing_sarcoma_FP/Alu/Alu_FM_V1WZZGBN_chr10_36569184_36569185.png\n",
      "/n/data1/hms/dbmi/park/simon_chu/projects/shared/toAntuan/machine_learning_training_data/FP/ewing_sarcoma_FP/Alu/Alu_FM_KA9H8ZDP_chr8_41388899_41388900.png\n",
      "/n/data1/hms/dbmi/park/simon_chu/projects/shared/toAntuan/machine_learning_training_data/FP/ewing_sarcoma_FP/Alu/Alu_FM_K6S31NTV_chr2_155331426_155331427.png\n",
      "/n/data1/hms/dbmi/park/simon_chu/projects/shared/toAntuan/machine_learning_training_data/FP/ewing_sarcoma_FP/Alu/Alu_FM_NVR8ZV6E_chr16_29684347_29684348.png\n",
      "/n/data1/hms/dbmi/park/simon_chu/projects/shared/toAntuan/machine_learning_training_data/FP/ewing_sarcoma_FP/Alu/Alu_FM_XW92SJ5F_chr4_169058755_169058756.png\n",
      "/n/data1/hms/dbmi/park/simon_chu/projects/shared/toAntuan/machine_learning_training_data/FP/ewing_sarcoma_FP/Alu/Alu_FM_M1SP5END_chr8_63120086_63120087.png\n",
      "/n/data1/hms/dbmi/park/simon_chu/projects/shared/toAntuan/machine_learning_training_data/FP/ewing_sarcoma_FP/Alu/Alu_FM_KA9H8ZDP_chr6_120998163_120998164.png\n",
      "/n/data1/hms/dbmi/park/simon_chu/projects/shared/toAntuan/machine_learning_training_data/FP/ewing_sarcoma_FP/Alu/Alu_FM_J266N4AN_chrX_85135735_85135736.png\n",
      "/n/data1/hms/dbmi/park/simon_chu/projects/shared/toAntuan/machine_learning_training_data/FP/ewing_sarcoma_FP/Alu/Alu_FM_RN931X19_chr9_112244289_112244290.png\n",
      "/n/data1/hms/dbmi/park/simon_chu/projects/shared/toAntuan/machine_learning_training_data/FP/ewing_sarcoma_FP/Alu/Alu_FM_R8Q6XA3V_chr12_47371330_47371331.png\n",
      "/n/data1/hms/dbmi/park/simon_chu/projects/shared/toAntuan/machine_learning_training_data/FP/ewing_sarcoma_FP/Alu/Alu_FM_NTZV8HMZ_chr19_11297482_11297483.png\n",
      "/n/data1/hms/dbmi/park/simon_chu/projects/shared/toAntuan/machine_learning_training_data/FP/ewing_sarcoma_FP/Alu/Alu_FM_VQ4QEK0X_chr1_108958784_108958785.png\n",
      "/n/data1/hms/dbmi/park/simon_chu/projects/shared/toAntuan/machine_learning_training_data/FP/ewing_sarcoma_FP/Alu/Alu_FM_R8Q6XA3V_chr3_85027109_85027110.png\n",
      "/n/data1/hms/dbmi/park/simon_chu/projects/shared/toAntuan/machine_learning_training_data/FP/ewing_sarcoma_FP/Alu/Alu_FM_XBA1FM5C_chr10_66912992_66912993.png\n",
      "/n/data1/hms/dbmi/park/simon_chu/projects/shared/toAntuan/machine_learning_training_data/FP/ewing_sarcoma_FP/Alu/Alu_FM_XBA1FM5C_chr3_125771037_125771038.png\n",
      "/n/data1/hms/dbmi/park/simon_chu/projects/shared/toAntuan/machine_learning_training_data/FP/ewing_sarcoma_FP/Alu/Alu_FM_RN931X19_chr14_74254784_74254785.png\n",
      "/n/data1/hms/dbmi/park/simon_chu/projects/shared/toAntuan/machine_learning_training_data/FP/ewing_sarcoma_FP/Alu/Alu_FM_R8Q6XA3V_chr17_67265067_67265068.png\n",
      "/n/data1/hms/dbmi/park/simon_chu/projects/shared/toAntuan/machine_learning_training_data/FP/ewing_sarcoma_FP/Alu/Alu_FM_MJQXYRXK_chr2_158428619_158428620.png\n",
      "/n/data1/hms/dbmi/park/simon_chu/projects/shared/toAntuan/machine_learning_training_data/FP/ewing_sarcoma_FP/Alu/Alu_FM_R8Q6XA3V_chr6_31254552_31254553.png\n",
      "/n/data1/hms/dbmi/park/simon_chu/projects/shared/toAntuan/machine_learning_training_data/FP/ewing_sarcoma_FP/Alu/Alu_FM_YF2SSTEX_chr13_99109096_99109097.png\n",
      "/n/data1/hms/dbmi/park/simon_chu/projects/shared/toAntuan/machine_learning_training_data/FP/ewing_sarcoma_FP/Alu/Alu_FM_MD68DFCH_chr16_78238901_78238902.png\n",
      "/n/data1/hms/dbmi/park/simon_chu/projects/shared/toAntuan/machine_learning_training_data/FP/ewing_sarcoma_FP/Alu/Alu_FM_KRNAZYET_chr20_16234035_16234036.png\n",
      "/n/data1/hms/dbmi/park/simon_chu/projects/shared/toAntuan/machine_learning_training_data/FP/ewing_sarcoma_FP/Alu/Alu_FM_MD68DFCH_chr6_32486358_32486359.png\n",
      "/n/data1/hms/dbmi/park/simon_chu/projects/shared/toAntuan/machine_learning_training_data/FP/ewing_sarcoma_FP/Alu/Alu_FM_MD68DFCH_chr10_3097091_3097092.png\n",
      "/n/data1/hms/dbmi/park/simon_chu/projects/shared/toAntuan/machine_learning_training_data/FP/ewing_sarcoma_FP/Alu/Alu_FM_XW92SJ5F_chr1_158870881_158870882.png\n",
      "/n/data1/hms/dbmi/park/simon_chu/projects/shared/toAntuan/machine_learning_training_data/FP/ewing_sarcoma_FP/Alu/Alu_FM_MDFYTB01_chr15_22972398_22972399.png\n",
      "/n/data1/hms/dbmi/park/simon_chu/projects/shared/toAntuan/machine_learning_training_data/FP/ewing_sarcoma_FP/Alu/Alu_FM_MJQXYRXK_chr4_187891890_187891891.png\n",
      "/n/data1/hms/dbmi/park/simon_chu/projects/shared/toAntuan/machine_learning_training_data/FP/ewing_sarcoma_FP/Alu/Alu_FM_N423SS6C_chr9_18367884_18367885.png\n",
      "/n/data1/hms/dbmi/park/simon_chu/projects/shared/toAntuan/machine_learning_training_data/FP/ewing_sarcoma_FP/Alu/Alu_FM_KRNAZYET_chr11_59042117_59042118.png\n",
      "/n/data1/hms/dbmi/park/simon_chu/projects/shared/toAntuan/machine_learning_training_data/FP/ewing_sarcoma_FP/Alu/Alu_FM_QH4YH0XJ_chr10_117067611_117067612.png\n",
      "/n/data1/hms/dbmi/park/simon_chu/projects/shared/toAntuan/machine_learning_training_data/FP/ewing_sarcoma_FP/Alu/Alu_FM_T1MR2K5C_chr12_92322929_92322930.png\n",
      "/n/data1/hms/dbmi/park/simon_chu/projects/shared/toAntuan/machine_learning_training_data/FP/ewing_sarcoma_FP/Alu/Alu_FM_V1WZZGBN_chr18_68911751_68911752.png\n",
      "/n/data1/hms/dbmi/park/simon_chu/projects/shared/toAntuan/machine_learning_training_data/FP/ewing_sarcoma_FP/Alu/Alu_FM_HFT857S3_chr9_4710433_4710434.png\n",
      "/n/data1/hms/dbmi/park/simon_chu/projects/shared/toAntuan/machine_learning_training_data/FP/ewing_sarcoma_FP/Alu/Alu_FM_T1MR2K5C_chrX_130189925_130189926.png\n",
      "/n/data1/hms/dbmi/park/simon_chu/projects/shared/toAntuan/machine_learning_training_data/FP/ewing_sarcoma_FP/Alu/Alu_FM_S9P4J1GS_chr3_41865109_41865110.png\n",
      "/n/data1/hms/dbmi/park/simon_chu/projects/shared/toAntuan/machine_learning_training_data/FP/ewing_sarcoma_FP/Alu/Alu_FM_J266N4AN_chr7_56340648_56340649.png\n",
      "/n/data1/hms/dbmi/park/simon_chu/projects/shared/toAntuan/machine_learning_training_data/FP/ewing_sarcoma_FP/Alu/Alu_FM_VNW723HW_chrX_904437_904438.png\n",
      "/n/data1/hms/dbmi/park/simon_chu/projects/shared/toAntuan/machine_learning_training_data/FP/ewing_sarcoma_FP/Alu/Alu_FM_QWEWHBKG_chr4_73566929_73566930.png\n",
      "/n/data1/hms/dbmi/park/simon_chu/projects/shared/toAntuan/machine_learning_training_data/FP/ewing_sarcoma_FP/Alu/Alu_FM_YPYR382H_chr20_35410724_35410725.png\n",
      "/n/data1/hms/dbmi/park/simon_chu/projects/shared/toAntuan/machine_learning_training_data/FP/ewing_sarcoma_FP/Alu/Alu_FM_QJ2R5SEA_chr9_72425781_72425782.png\n",
      "/n/data1/hms/dbmi/park/simon_chu/projects/shared/toAntuan/machine_learning_training_data/FP/ewing_sarcoma_FP/Alu/Alu_FM_PNA14C6X_chr19_21582992_21582993.png\n",
      "/n/data1/hms/dbmi/park/simon_chu/projects/shared/toAntuan/machine_learning_training_data/FP/ewing_sarcoma_FP/Alu/Alu_FM_QQRY6KJ0_chr13_99573572_99573573.png\n",
      "/n/data1/hms/dbmi/park/simon_chu/projects/shared/toAntuan/machine_learning_training_data/FP/ewing_sarcoma_FP/Alu/Alu_FM_SPF8K560_chr2_193514358_193514359.png\n",
      "/n/data1/hms/dbmi/park/simon_chu/projects/shared/toAntuan/machine_learning_training_data/FP/ewing_sarcoma_FP/Alu/Alu_FM_NTZV8HMZ_chr6_32805658_32805659.png\n",
      "/n/data1/hms/dbmi/park/simon_chu/projects/shared/toAntuan/machine_learning_training_data/FP/ewing_sarcoma_FP/Alu/Alu_FM_MD68DFCH_chr2_65103299_65103300.png\n",
      "/n/data1/hms/dbmi/park/simon_chu/projects/shared/toAntuan/machine_learning_training_data/FP/ewing_sarcoma_FP/Alu/Alu_FM_TATC0PVF_chr6_55533885_55533886.png\n",
      "/n/data1/hms/dbmi/park/simon_chu/projects/shared/toAntuan/machine_learning_training_data/FP/ewing_sarcoma_FP/Alu/Alu_FM_MJQXYRXK_chr12_127982362_127982363.png\n"
     ]
    },
    {
     "name": "stdout",
     "output_type": "stream",
     "text": [
      "/n/data1/hms/dbmi/park/simon_chu/projects/shared/toAntuan/machine_learning_training_data/FP/ewing_sarcoma_FP/Alu/Alu_FM_K4V4QQVR_chr19_41875211_41875212.png\n",
      "/n/data1/hms/dbmi/park/simon_chu/projects/shared/toAntuan/machine_learning_training_data/FP/ewing_sarcoma_FP/Alu/Alu_FM_XW92SJ5F_chr5_137434510_137434511.png\n",
      "/n/data1/hms/dbmi/park/simon_chu/projects/shared/toAntuan/machine_learning_training_data/FP/ewing_sarcoma_FP/Alu/Alu_FM_T1RBN0PE_chr18_38537997_38537998.png\n",
      "/n/data1/hms/dbmi/park/simon_chu/projects/shared/toAntuan/machine_learning_training_data/FP/ewing_sarcoma_FP/Alu/Alu_FM_T1MR2K5C_chr4_24903912_24903913.png\n",
      "/n/data1/hms/dbmi/park/simon_chu/projects/shared/toAntuan/machine_learning_training_data/FP/ewing_sarcoma_FP/Alu/Alu_FM_QQRY6KJ0_chr22_36086537_36086538.png\n",
      "/n/data1/hms/dbmi/park/simon_chu/projects/shared/toAntuan/machine_learning_training_data/FP/ewing_sarcoma_FP/Alu/Alu_FM_PMB7A8JM_chr6_71710582_71710583.png\n",
      "/n/data1/hms/dbmi/park/simon_chu/projects/shared/toAntuan/machine_learning_training_data/FP/ewing_sarcoma_FP/Alu/Alu_FM_WADXD3Q3_chr6_90416133_90416134.png\n",
      "/n/data1/hms/dbmi/park/simon_chu/projects/shared/toAntuan/machine_learning_training_data/FP/ewing_sarcoma_FP/Alu/Alu_FM_VQ4QEK0X_chr2_136825718_136825719.png\n",
      "/n/data1/hms/dbmi/park/simon_chu/projects/shared/toAntuan/machine_learning_training_data/FP/ewing_sarcoma_FP/Alu/Alu_FM_QYSDC44P_chr9_121037440_121037441.png\n",
      "/n/data1/hms/dbmi/park/simon_chu/projects/shared/toAntuan/machine_learning_training_data/FP/ewing_sarcoma_FP/Alu/Alu_FM_GV6ENB1E_chr1_9967835_9967836.png\n",
      "/n/data1/hms/dbmi/park/simon_chu/projects/shared/toAntuan/machine_learning_training_data/FP/ewing_sarcoma_FP/Alu/Alu_FM_KRNAZYET_chrX_41830817_41830818.png\n",
      "/n/data1/hms/dbmi/park/simon_chu/projects/shared/toAntuan/machine_learning_training_data/FP/ewing_sarcoma_FP/Alu/Alu_FM_MJQXYRXK_chr1_76642851_76642852.png\n",
      "/n/data1/hms/dbmi/park/simon_chu/projects/shared/toAntuan/machine_learning_training_data/FP/ewing_sarcoma_FP/Alu/Alu_FM_Z1GFG75A_chr19_53593978_53593979.png\n",
      "/n/data1/hms/dbmi/park/simon_chu/projects/shared/toAntuan/machine_learning_training_data/FP/ewing_sarcoma_FP/Alu/Alu_FM_QFYKJW7Z_chrX_454759_454760.png\n",
      "/n/data1/hms/dbmi/park/simon_chu/projects/shared/toAntuan/machine_learning_training_data/FP/ewing_sarcoma_FP/Alu/Alu_FM_MJQXYRXK_chr13_110145379_110145380.png\n",
      "/n/data1/hms/dbmi/park/simon_chu/projects/shared/toAntuan/machine_learning_training_data/FP/ewing_sarcoma_FP/Alu/Alu_FM_SPF8K560_chr3_182230300_182230301.png\n",
      "/n/data1/hms/dbmi/park/simon_chu/projects/shared/toAntuan/machine_learning_training_data/FP/ewing_sarcoma_FP/Alu/Alu_FM_K6S31NTV_chrX_522440_522441.png\n",
      "/n/data1/hms/dbmi/park/simon_chu/projects/shared/toAntuan/machine_learning_training_data/FP/ewing_sarcoma_FP/Alu/Alu_FM_YGV6JE8N_chr14_88302448_88302449.png\n",
      "/n/data1/hms/dbmi/park/simon_chu/projects/shared/toAntuan/machine_learning_training_data/FP/ewing_sarcoma_FP/Alu/Alu_FM_JVT8HH62_chr6_19155446_19155447.png\n",
      "/n/data1/hms/dbmi/park/simon_chu/projects/shared/toAntuan/machine_learning_training_data/FP/ewing_sarcoma_FP/Alu/Alu_FM_QRJ0TNE0_chr13_19032019_19032020.png\n",
      "/n/data1/hms/dbmi/park/simon_chu/projects/shared/toAntuan/machine_learning_training_data/FP/ewing_sarcoma_FP/Alu/Alu_FM_TMAT8GQ0_chr10_70604815_70604816.png\n",
      "/n/data1/hms/dbmi/park/simon_chu/projects/shared/toAntuan/machine_learning_training_data/FP/ewing_sarcoma_FP/Alu/Alu_FM_HAREER7N_chr16_57291040_57291041.png\n",
      "/n/data1/hms/dbmi/park/simon_chu/projects/shared/toAntuan/machine_learning_training_data/FP/ewing_sarcoma_FP/Alu/Alu_FM_T1MR2K5C_chr12_115920236_115920237.png\n",
      "/n/data1/hms/dbmi/park/simon_chu/projects/shared/toAntuan/machine_learning_training_data/FP/ewing_sarcoma_FP/Alu/Alu_FM_N9MPHKFK_chr6_153767859_153767860.png\n",
      "/n/data1/hms/dbmi/park/simon_chu/projects/shared/toAntuan/machine_learning_training_data/FP/ewing_sarcoma_FP/Alu/Alu_FM_T1RBN0PE_chr19_48758883_48758884.png\n",
      "/n/data1/hms/dbmi/park/simon_chu/projects/shared/toAntuan/machine_learning_training_data/FP/ewing_sarcoma_FP/Alu/Alu_FM_QBK86MTX_chr1_102542192_102542193.png\n",
      "/n/data1/hms/dbmi/park/simon_chu/projects/shared/toAntuan/machine_learning_training_data/FP/ewing_sarcoma_FP/Alu/Alu_FM_MR4303M9_chr1_13349074_13349075.png\n",
      "/n/data1/hms/dbmi/park/simon_chu/projects/shared/toAntuan/machine_learning_training_data/FP/ewing_sarcoma_FP/Alu/Alu_FM_TD530WQS_chr7_13609582_13609583.png\n",
      "/n/data1/hms/dbmi/park/simon_chu/projects/shared/toAntuan/machine_learning_training_data/FP/ewing_sarcoma_FP/Alu/Alu_FM_THSHJX5T_chr21_30597721_30597722.png\n",
      "/n/data1/hms/dbmi/park/simon_chu/projects/shared/toAntuan/machine_learning_training_data/FP/ewing_sarcoma_FP/Alu/Alu_FM_QWEWHBKG_chr14_25408225_25408226.png\n",
      "/n/data1/hms/dbmi/park/simon_chu/projects/shared/toAntuan/machine_learning_training_data/FP/ewing_sarcoma_FP/Alu/Alu_FM_PMB7A8JM_chrX_155292801_155292802.png\n",
      "/n/data1/hms/dbmi/park/simon_chu/projects/shared/toAntuan/machine_learning_training_data/FP/ewing_sarcoma_FP/Alu/Alu_FM_T1MR2K5C_chr7_17670886_17670887.png\n",
      "/n/data1/hms/dbmi/park/simon_chu/projects/shared/toAntuan/machine_learning_training_data/FP/ewing_sarcoma_FP/Alu/Alu_FM_Z1GFG75A_chr7_29985409_29985410.png\n",
      "/n/data1/hms/dbmi/park/simon_chu/projects/shared/toAntuan/machine_learning_training_data/FP/ewing_sarcoma_FP/Alu/Alu_FM_V1WZZGBN_chr7_57246383_57246384.png\n",
      "/n/data1/hms/dbmi/park/simon_chu/projects/shared/toAntuan/machine_learning_training_data/FP/ewing_sarcoma_FP/Alu/Alu_FM_QVJJBYCY_chr21_31629038_31629039.png\n",
      "/n/data1/hms/dbmi/park/simon_chu/projects/shared/toAntuan/machine_learning_training_data/FP/ewing_sarcoma_FP/Alu/Alu_FM_YPYR382H_chr12_52131137_52131138.png\n",
      "/n/data1/hms/dbmi/park/simon_chu/projects/shared/toAntuan/machine_learning_training_data/FP/ewing_sarcoma_FP/Alu/Alu_FM_MD68DFCH_chr2_6289403_6289404.png\n",
      "/n/data1/hms/dbmi/park/simon_chu/projects/shared/toAntuan/machine_learning_training_data/FP/ewing_sarcoma_FP/Alu/Alu_FM_SPF8K560_chr11_76316282_76316283.png\n",
      "/n/data1/hms/dbmi/park/simon_chu/projects/shared/toAntuan/machine_learning_training_data/FP/ewing_sarcoma_FP/Alu/Alu_FM_XBA1FM5C_chr4_118594553_118594554.png\n",
      "/n/data1/hms/dbmi/park/simon_chu/projects/shared/toAntuan/machine_learning_training_data/FP/ewing_sarcoma_FP/Alu/Alu_FM_PNA14C6X_chr2_63031032_63031033.png\n",
      "/n/data1/hms/dbmi/park/simon_chu/projects/shared/toAntuan/machine_learning_training_data/FP/ewing_sarcoma_FP/Alu/Alu_FM_Q59QPMBV_chr4_188267418_188267419.png\n",
      "/n/data1/hms/dbmi/park/simon_chu/projects/shared/toAntuan/machine_learning_training_data/FP/ewing_sarcoma_FP/Alu/Alu_FM_T1RBN0PE_chr6_155996969_155996970.png\n",
      "/n/data1/hms/dbmi/park/simon_chu/projects/shared/toAntuan/machine_learning_training_data/FP/ewing_sarcoma_FP/Alu/Alu_FM_XBA1FM5C_chr2_231352868_231352869.png\n",
      "/n/data1/hms/dbmi/park/simon_chu/projects/shared/toAntuan/machine_learning_training_data/FP/ewing_sarcoma_FP/Alu/Alu_FM_RN931X19_chr19_52805643_52805644.png\n",
      "/n/data1/hms/dbmi/park/simon_chu/projects/shared/toAntuan/machine_learning_training_data/FP/ewing_sarcoma_FP/Alu/Alu_FM_SPF8K560_chr8_138159278_138159279.png\n",
      "/n/data1/hms/dbmi/park/simon_chu/projects/shared/toAntuan/machine_learning_training_data/FP/ewing_sarcoma_FP/Alu/Alu_FM_KC7NJYQY_chr6_129309917_129309918.png\n",
      "/n/data1/hms/dbmi/park/simon_chu/projects/shared/toAntuan/machine_learning_training_data/FP/ewing_sarcoma_FP/Alu/Alu_FM_V1WZZGBN_chr4_139702844_139702845.png\n",
      "/n/data1/hms/dbmi/park/simon_chu/projects/shared/toAntuan/machine_learning_training_data/FP/ewing_sarcoma_FP/Alu/Alu_FM_HGJ02Q6M_chr17_15219310_15219311.png\n",
      "/n/data1/hms/dbmi/park/simon_chu/projects/shared/toAntuan/machine_learning_training_data/FP/ewing_sarcoma_FP/Alu/Alu_FM_GN4PWZY4_chr13_94597249_94597250.png\n",
      "/n/data1/hms/dbmi/park/simon_chu/projects/shared/toAntuan/machine_learning_training_data/FP/ewing_sarcoma_FP/Alu/Alu_FM_THSHJX5T_chr5_180309850_180309851.png\n",
      "/n/data1/hms/dbmi/park/simon_chu/projects/shared/toAntuan/machine_learning_training_data/FP/ewing_sarcoma_FP/Alu/Alu_FM_YF2SSTEX_chr11_66556771_66556772.png\n",
      "/n/data1/hms/dbmi/park/simon_chu/projects/shared/toAntuan/machine_learning_training_data/FP/ewing_sarcoma_FP/Alu/Alu_FM_XW92SJ5F_chr21_36201345_36201346.png\n",
      "/n/data1/hms/dbmi/park/simon_chu/projects/shared/toAntuan/machine_learning_training_data/FP/ewing_sarcoma_FP/Alu/Alu_FM_R81TY6W4_chr10_113289562_113289563.png\n",
      "/n/data1/hms/dbmi/park/simon_chu/projects/shared/toAntuan/machine_learning_training_data/FP/ewing_sarcoma_FP/Alu/Alu_FM_KA9H8ZDP_chr6_154730514_154730515.png\n"
     ]
    },
    {
     "name": "stdout",
     "output_type": "stream",
     "text": [
      "/n/data1/hms/dbmi/park/simon_chu/projects/shared/toAntuan/machine_learning_training_data/FP/ewing_sarcoma_FP/Alu/Alu_FM_WNF4XZRW_chr14_73821518_73821519.png\n",
      "/n/data1/hms/dbmi/park/simon_chu/projects/shared/toAntuan/machine_learning_training_data/FP/ewing_sarcoma_FP/Alu/Alu_FM_XW92SJ5F_chr2_215682957_215682958.png\n",
      "/n/data1/hms/dbmi/park/simon_chu/projects/shared/toAntuan/machine_learning_training_data/FP/ewing_sarcoma_FP/Alu/Alu_FM_QFYKJW7Z_chr3_186751316_186751317.png\n",
      "/n/data1/hms/dbmi/park/simon_chu/projects/shared/toAntuan/machine_learning_training_data/FP/ewing_sarcoma_FP/Alu/Alu_FM_RG7KMJ46_chr10_103684791_103684792.png\n",
      "/n/data1/hms/dbmi/park/simon_chu/projects/shared/toAntuan/machine_learning_training_data/FP/ewing_sarcoma_FP/Alu/Alu_FM_GN4PWZY4_chr10_67302071_67302072.png\n",
      "/n/data1/hms/dbmi/park/simon_chu/projects/shared/toAntuan/machine_learning_training_data/FP/ewing_sarcoma_FP/Alu/Alu_FM_Y4N89SXG_chr8_20122785_20122786.png\n",
      "/n/data1/hms/dbmi/park/simon_chu/projects/shared/toAntuan/machine_learning_training_data/FP/ewing_sarcoma_FP/Alu/Alu_FM_J12ERCJX_chrX_22067153_22067154.png\n",
      "/n/data1/hms/dbmi/park/simon_chu/projects/shared/toAntuan/machine_learning_training_data/FP/ewing_sarcoma_FP/Alu/Alu_FM_MR4303M9_chr21_42896337_42896338.png\n",
      "/n/data1/hms/dbmi/park/simon_chu/projects/shared/toAntuan/machine_learning_training_data/FP/ewing_sarcoma_FP/Alu/Alu_FM_K4V4QQVR_chr1_28576425_28576426.png\n",
      "/n/data1/hms/dbmi/park/simon_chu/projects/shared/toAntuan/machine_learning_training_data/FP/ewing_sarcoma_FP/Alu/Alu_FM_THSHJX5T_chr11_118599079_118599080.png\n",
      "/n/data1/hms/dbmi/park/simon_chu/projects/shared/toAntuan/machine_learning_training_data/FP/ewing_sarcoma_FP/Alu/Alu_FM_K4V4QQVR_chr2_232968105_232968106.png\n",
      "/n/data1/hms/dbmi/park/simon_chu/projects/shared/toAntuan/machine_learning_training_data/FP/ewing_sarcoma_FP/Alu/Alu_FM_ZBZ7ZAF8_chr13_41560958_41560959.png\n",
      "/n/data1/hms/dbmi/park/simon_chu/projects/shared/toAntuan/machine_learning_training_data/FP/ewing_sarcoma_FP/Alu/Alu_FM_VQ4QEK0X_chr12_30378052_30378053.png\n",
      "/n/data1/hms/dbmi/park/simon_chu/projects/shared/toAntuan/machine_learning_training_data/FP/ewing_sarcoma_FP/Alu/Alu_FM_THSHJX5T_chr6_108084241_108084242.png\n",
      "/n/data1/hms/dbmi/park/simon_chu/projects/shared/toAntuan/machine_learning_training_data/FP/ewing_sarcoma_FP/Alu/Alu_FM_VQ4QEK0X_chr2_113464501_113464502.png\n",
      "/n/data1/hms/dbmi/park/simon_chu/projects/shared/toAntuan/machine_learning_training_data/FP/ewing_sarcoma_FP/Alu/Alu_FM_GV6ENB1E_chr14_73821513_73821514.png\n",
      "/n/data1/hms/dbmi/park/simon_chu/projects/shared/toAntuan/machine_learning_training_data/FP/ewing_sarcoma_FP/Alu/Alu_FM_GV6ENB1E_chr9_28790325_28790326.png\n",
      "/n/data1/hms/dbmi/park/simon_chu/projects/shared/toAntuan/machine_learning_training_data/FP/ewing_sarcoma_FP/Alu/Alu_FM_N9MPHKFK_chr21_18669239_18669240.png\n",
      "/n/data1/hms/dbmi/park/simon_chu/projects/shared/toAntuan/machine_learning_training_data/FP/ewing_sarcoma_FP/Alu/Alu_FM_Q8GE21PW_chr17_66197184_66197185.png\n",
      "/n/data1/hms/dbmi/park/simon_chu/projects/shared/toAntuan/machine_learning_training_data/FP/ewing_sarcoma_FP/Alu/Alu_FM_J12ERCJX_chr5_69204597_69204598.png\n",
      "/n/data1/hms/dbmi/park/simon_chu/projects/shared/toAntuan/machine_learning_training_data/FP/ewing_sarcoma_FP/Alu/Alu_FM_J266N4AN_chr1_85996496_85996497.png\n",
      "/n/data1/hms/dbmi/park/simon_chu/projects/shared/toAntuan/machine_learning_training_data/FP/ewing_sarcoma_FP/Alu/Alu_FM_KRNAZYET_chr2_84400894_84400895.png\n",
      "/n/data1/hms/dbmi/park/simon_chu/projects/shared/toAntuan/machine_learning_training_data/FP/ewing_sarcoma_FP/Alu/Alu_FM_XW92SJ5F_chr14_54727166_54727167.png\n",
      "/n/data1/hms/dbmi/park/simon_chu/projects/shared/toAntuan/machine_learning_training_data/FP/ewing_sarcoma_FP/Alu/Alu_FM_RN931X19_chr1_174516136_174516137.png\n",
      "/n/data1/hms/dbmi/park/simon_chu/projects/shared/toAntuan/machine_learning_training_data/FP/ewing_sarcoma_FP/Alu/Alu_FM_YF2SSTEX_chr8_63120084_63120085.png\n",
      "/n/data1/hms/dbmi/park/simon_chu/projects/shared/toAntuan/machine_learning_training_data/FP/ewing_sarcoma_FP/Alu/Alu_FM_HGJ02Q6M_chr10_2360694_2360695.png\n",
      "/n/data1/hms/dbmi/park/simon_chu/projects/shared/toAntuan/machine_learning_training_data/FP/ewing_sarcoma_FP/Alu/Alu_FM_T1MR2K5C_chr12_129760323_129760324.png\n",
      "/n/data1/hms/dbmi/park/simon_chu/projects/shared/toAntuan/machine_learning_training_data/FP/ewing_sarcoma_FP/Alu/Alu_FM_TMN6AQTJ_chr4_85663349_85663350.png\n",
      "/n/data1/hms/dbmi/park/simon_chu/projects/shared/toAntuan/machine_learning_training_data/FP/ewing_sarcoma_FP/Alu/Alu_FM_K4V4QQVR_chr20_5648405_5648406.png\n",
      "/n/data1/hms/dbmi/park/simon_chu/projects/shared/toAntuan/machine_learning_training_data/FP/ewing_sarcoma_FP/Alu/Alu_FM_V6X3JMDD_chr16_28891589_28891590.png\n",
      "/n/data1/hms/dbmi/park/simon_chu/projects/shared/toAntuan/machine_learning_training_data/FP/ewing_sarcoma_FP/Alu/Alu_FM_NDTZW28Q_chr8_24979886_24979887.png\n",
      "/n/data1/hms/dbmi/park/simon_chu/projects/shared/toAntuan/machine_learning_training_data/FP/ewing_sarcoma_FP/Alu/Alu_FM_WADXD3Q3_chr14_89819619_89819620.png\n",
      "/n/data1/hms/dbmi/park/simon_chu/projects/shared/toAntuan/machine_learning_training_data/FP/ewing_sarcoma_FP/Alu/Alu_FM_MD68DFCH_chr2_230466184_230466185.png\n",
      "/n/data1/hms/dbmi/park/simon_chu/projects/shared/toAntuan/machine_learning_training_data/FP/ewing_sarcoma_FP/Alu/Alu_FM_XBA1FM5C_chr18_3368969_3368970.png\n",
      "/n/data1/hms/dbmi/park/simon_chu/projects/shared/toAntuan/machine_learning_training_data/FP/ewing_sarcoma_FP/Alu/Alu_FM_JVT8HH62_chr1_180077671_180077672.png\n",
      "/n/data1/hms/dbmi/park/simon_chu/projects/shared/toAntuan/machine_learning_training_data/FP/ewing_sarcoma_FP/Alu/Alu_FM_MD68DFCH_chr1_27187172_27187173.png\n",
      "/n/data1/hms/dbmi/park/simon_chu/projects/shared/toAntuan/machine_learning_training_data/FP/ewing_sarcoma_FP/Alu/Alu_FM_T1MR2K5C_chr16_74612524_74612525.png\n",
      "/n/data1/hms/dbmi/park/simon_chu/projects/shared/toAntuan/machine_learning_training_data/FP/ewing_sarcoma_FP/Alu/Alu_FM_QRJ0TNE0_chr1_33075344_33075345.png\n",
      "/n/data1/hms/dbmi/park/simon_chu/projects/shared/toAntuan/machine_learning_training_data/FP/ewing_sarcoma_FP/Alu/Alu_FM_R791T19G_chr3_146361833_146361834.png\n",
      "/n/data1/hms/dbmi/park/simon_chu/projects/shared/toAntuan/machine_learning_training_data/FP/ewing_sarcoma_FP/Alu/Alu_FM_NHRNMYQK_chr5_33749415_33749416.png\n",
      "/n/data1/hms/dbmi/park/simon_chu/projects/shared/toAntuan/machine_learning_training_data/FP/ewing_sarcoma_FP/Alu/Alu_FM_QQRY6KJ0_chr4_79432872_79432873.png\n",
      "/n/data1/hms/dbmi/park/simon_chu/projects/shared/toAntuan/machine_learning_training_data/FP/ewing_sarcoma_FP/Alu/Alu_FM_Y4N89SXG_chr18_43788579_43788580.png\n",
      "/n/data1/hms/dbmi/park/simon_chu/projects/shared/toAntuan/machine_learning_training_data/FP/ewing_sarcoma_FP/Alu/Alu_FM_R8Q6XA3V_chr10_66913238_66913239.png\n",
      "/n/data1/hms/dbmi/park/simon_chu/projects/shared/toAntuan/machine_learning_training_data/FP/ewing_sarcoma_FP/Alu/Alu_FM_H1R44YA0_chr6_129309902_129309903.png\n",
      "/n/data1/hms/dbmi/park/simon_chu/projects/shared/toAntuan/machine_learning_training_data/FP/ewing_sarcoma_FP/Alu/Alu_FM_QQRY6KJ0_chr18_7078133_7078134.png\n",
      "/n/data1/hms/dbmi/park/simon_chu/projects/shared/toAntuan/machine_learning_training_data/FP/ewing_sarcoma_FP/Alu/Alu_FM_RN931X19_chr7_19747253_19747254.png\n",
      "/n/data1/hms/dbmi/park/simon_chu/projects/shared/toAntuan/machine_learning_training_data/FP/ewing_sarcoma_FP/Alu/Alu_FM_J12ERCJX_chr7_83871354_83871355.png\n",
      "/n/data1/hms/dbmi/park/simon_chu/projects/shared/toAntuan/machine_learning_training_data/FP/ewing_sarcoma_FP/Alu/Alu_FM_H1R44YA0_chr9_108616505_108616506.png\n",
      "/n/data1/hms/dbmi/park/simon_chu/projects/shared/toAntuan/machine_learning_training_data/FP/ewing_sarcoma_FP/Alu/Alu_FM_X69ZFB11_chr5_42625748_42625749.png\n",
      "/n/data1/hms/dbmi/park/simon_chu/projects/shared/toAntuan/machine_learning_training_data/FP/ewing_sarcoma_FP/Alu/Alu_FM_MJQXYRXK_chr14_42182018_42182019.png\n",
      "/n/data1/hms/dbmi/park/simon_chu/projects/shared/toAntuan/machine_learning_training_data/FP/ewing_sarcoma_FP/Alu/Alu_FM_QQRY6KJ0_chr12_59888474_59888475.png\n",
      "/n/data1/hms/dbmi/park/simon_chu/projects/shared/toAntuan/machine_learning_training_data/FP/ewing_sarcoma_FP/Alu/Alu_FM_QWEWHBKG_chr2_18096285_18096286.png\n",
      "/n/data1/hms/dbmi/park/simon_chu/projects/shared/toAntuan/machine_learning_training_data/FP/ewing_sarcoma_FP/Alu/Alu_FM_QQRY6KJ0_chr7_136307622_136307623.png\n"
     ]
    },
    {
     "name": "stdout",
     "output_type": "stream",
     "text": [
      "/n/data1/hms/dbmi/park/simon_chu/projects/shared/toAntuan/machine_learning_training_data/FP/ewing_sarcoma_FP/Alu/Alu_FM_VQ4QEK0X_chr17_44513444_44513445.png\n",
      "/n/data1/hms/dbmi/park/simon_chu/projects/shared/toAntuan/machine_learning_training_data/FP/ewing_sarcoma_FP/Alu/Alu_FM_XW92SJ5F_chr14_70223501_70223502.png\n",
      "/n/data1/hms/dbmi/park/simon_chu/projects/shared/toAntuan/machine_learning_training_data/FP/ewing_sarcoma_FP/Alu/Alu_FM_V1WZZGBN_chr6_29795780_29795781.png\n",
      "/n/data1/hms/dbmi/park/simon_chu/projects/shared/toAntuan/machine_learning_training_data/FP/ewing_sarcoma_FP/Alu/Alu_FM_THSHJX5T_chr17_46105634_46105635.png\n",
      "270\n"
     ]
    }
   ],
   "source": [
    "# check on FP's\n",
    "import glob\n",
    "from tensorflow.keras.preprocessing import image\n",
    "from tensorflow.keras.applications.resnet50 import preprocess_input, decode_predictions\n",
    "img_path = \"/n/data1/hms/dbmi/park/simon_chu/projects/shared/toAntuan/machine_learning_training_data/FP/ewing_sarcoma_FP/Alu/*\"\n",
    "imgs = glob.glob(img_path)\n",
    "count = 0\n",
    "for i in imgs:\n",
    "    img = image.load_img(i, target_size=(160, 160))\n",
    "    img_array = image.img_to_array(img)\n",
    "    img_batch = np.expand_dims(img_array, axis=0)\n",
    "    img_preprocessed = preprocess_input(img_batch)\n",
    "    prediction = model.predict(img_preprocessed)\n",
    "    predictions = tf.nn.sigmoid([prediction])\n",
    "    predictions = tf.where(predictions < 0.5, 0, 1)\n",
    "    if predictions.numpy()[0][0][0] == 1: # 1 == TP prediction\n",
    "        print(i)\n",
    "        count += 1\n",
    "print(count)\n",
    "        "
   ]
  },
  {
   "cell_type": "code",
   "execution_count": null,
   "metadata": {},
   "outputs": [],
   "source": [
    "Epoch 10/20\n",
    "503/503 [==============================] - 831s 2s/step - loss: 0.3686 - accuracy: 0.8376 - val_loss: 0.3967 - val_accuracy: 0.7968\n",
    "Epoch 11/20\n",
    "503/503 [==============================] - 838s 2s/step - loss: 0.2633 - accuracy: 0.8967 - val_loss: 0.2329 - val_accuracy: 0.9062\n",
    "Epoch 12/20\n",
    "503/503 [==============================] - 804s 2s/step - loss: 0.2244 - accuracy: 0.9154 - val_loss: 0.2221 - val_accuracy: 0.9200\n",
    "Epoch 13/20\n",
    "503/503 [==============================] - ETA: 0s - loss: 0.2002 - accuracy: 0.9262\n",
    "2021-08-09 14:55:53.518615: I tensorflow/core/kernels/data/shuffle_dataset_op.cc:177] Filling up shuffle buffer (this may take a while): 248 of 256\n",
    "2021-08-09 14:55:53.831154: I tensorflow/core/kernels/data/shuffle_dataset_op.cc:230] Shuffle buffer filled.\n",
    "503/503 [==============================] - 905s 2s/step - loss: 0.2002 - accuracy: 0.9262 - val_loss: 0.2203 - val_accuracy: 0.9296\n",
    "Epoch 14/20\n",
    "503/503 [==============================] - 822s 2s/step - loss: 0.1836 - accuracy: 0.9340 - val_loss: 0.2807 - val_accuracy: 0.8870\n",
    "Epoch 15/20\n",
    "503/503 [==============================] - 819s 2s/step - loss: 0.1718 - accuracy: 0.9390 - val_loss: 0.2061 - val_accuracy: 0.9321\n",
    "Epoch 16/20\n",
    "478/503 [===========================>..] - ETA: 45s - loss: 0.1586 - accuracy: 0.9450"
   ]
  },
  {
   "cell_type": "markdown",
   "metadata": {
    "id": "TfXEmsxQf6eP"
   },
   "source": [
    "Let's take a look at the learning curves of the training and validation accuracy/loss when fine-tuning the last few layers of the MobileNet V2 base model and training the classifier on top of it. The validation loss is much higher than the training loss, so you may get some overfitting.\n",
    "\n",
    "You may also get some overfitting as the new training set is relatively small and similar to the original MobileNet V2 datasets.\n"
   ]
  },
  {
   "cell_type": "markdown",
   "metadata": {
    "id": "DNtfNZKlInGT"
   },
   "source": [
    "After fine tuning the model nearly reaches 98% accuracy on the validation set."
   ]
  },
  {
   "cell_type": "code",
   "execution_count": 33,
   "metadata": {
    "execution": {
     "iopub.execute_input": "2021-06-16T19:28:32.294620Z",
     "iopub.status.busy": "2021-06-16T19:28:32.294055Z",
     "iopub.status.idle": "2021-06-16T19:28:32.296059Z",
     "shell.execute_reply": "2021-06-16T19:28:32.295657Z"
    },
    "id": "PpA8PlpQKygw"
   },
   "outputs": [],
   "source": [
    "acc += history_fine.history['accuracy']\n",
    "val_acc += history_fine.history['val_accuracy']\n",
    "\n",
    "loss += history_fine.history['loss']\n",
    "val_loss += history_fine.history['val_loss']"
   ]
  },
  {
   "cell_type": "code",
   "execution_count": 34,
   "metadata": {
    "execution": {
     "iopub.execute_input": "2021-06-16T19:28:32.311933Z",
     "iopub.status.busy": "2021-06-16T19:28:32.311258Z",
     "iopub.status.idle": "2021-06-16T19:28:32.546971Z",
     "shell.execute_reply": "2021-06-16T19:28:32.547356Z"
    },
    "id": "chW103JUItdk"
   },
   "outputs": [
    {
     "data": {
      "image/png": "[encoded data removed]",
      "text/plain": [
       "<Figure size 576x576 with 2 Axes>"
      ]
     },
     "metadata": {
      "needs_background": "light"
     },
     "output_type": "display_data"
    }
   ],
   "source": [
    "plt.figure(figsize=(8, 8))\n",
    "plt.subplot(2, 1, 1)\n",
    "plt.plot(acc, label='Training Accuracy')\n",
    "plt.plot(val_acc, label='Validation Accuracy')\n",
    "plt.ylim([0.8, 1])\n",
    "plt.plot([initial_epochs-1,initial_epochs-1],\n",
    "          plt.ylim(), label='Start Fine Tuning')\n",
    "plt.legend(loc='lower right')\n",
    "plt.title('Training and Validation Accuracy')\n",
    "\n",
    "plt.subplot(2, 1, 2)\n",
    "plt.plot(loss, label='Training Loss')\n",
    "plt.plot(val_loss, label='Validation Loss')\n",
    "plt.ylim([0, 1.0])\n",
    "plt.plot([initial_epochs-1,initial_epochs-1],\n",
    "         plt.ylim(), label='Start Fine Tuning')\n",
    "plt.legend(loc='upper right')\n",
    "plt.title('Training and Validation Loss')\n",
    "plt.xlabel('epoch')\n",
    "plt.show()"
   ]
  },
  {
   "cell_type": "markdown",
   "metadata": {
    "id": "R6cWgjgfrsn5"
   },
   "source": [
    "### Evaluation and prediction"
   ]
  },
  {
   "cell_type": "markdown",
   "metadata": {
    "id": "PSXH7PRMxOi5"
   },
   "source": [
    "Finaly you can verify the performance of the model on new data using test set."
   ]
  },
  {
   "cell_type": "code",
   "execution_count": 35,
   "metadata": {
    "execution": {
     "iopub.execute_input": "2021-06-16T19:28:32.551781Z",
     "iopub.status.busy": "2021-06-16T19:28:32.551138Z",
     "iopub.status.idle": "2021-06-16T19:28:32.720827Z",
     "shell.execute_reply": "2021-06-16T19:28:32.721272Z"
    },
    "id": "2KyNhagHwfar"
   },
   "outputs": [
    {
     "name": "stdout",
     "output_type": "stream",
     "text": [
      "12/12 [==============================] - 12s 657ms/step - loss: 0.2905 - accuracy: 0.9062\n",
      "Test accuracy : 0.90625\n"
     ]
    }
   ],
   "source": [
    "loss, accuracy = model.evaluate(test_dataset)\n",
    "print('Test accuracy :', accuracy)"
   ]
  },
  {
   "cell_type": "markdown",
   "metadata": {
    "id": "8UjS5ukZfOcR"
   },
   "source": [
    "And now you are all set to use this model to predict if your pet is a cat or dog."
   ]
  },
  {
   "cell_type": "code",
   "execution_count": 36,
   "metadata": {
    "execution": {
     "iopub.execute_input": "2021-06-16T19:28:32.727784Z",
     "iopub.status.busy": "2021-06-16T19:28:32.727035Z",
     "iopub.status.idle": "2021-06-16T19:28:34.087021Z",
     "shell.execute_reply": "2021-06-16T19:28:34.087425Z"
    },
    "id": "RUNoQNgtfNgt"
   },
   "outputs": [
    {
     "name": "stdout",
     "output_type": "stream",
     "text": [
      "Predictions:\n",
      " [0 1 0 1 1 0 1 0 0 0 0 0 0 0 0 0 1 0 1 1 1 1 0 0 0 1 1 1 1 1 1 0]\n",
      "Labels:\n",
      " [0 0 0 1 1 1 1 0 0 0 0 0 0 0 0 0 1 1 1 1 1 1 0 0 1 1 1 1 1 0 1 0]\n"
     ]
    },
    {
     "data": {
      "image/png": "[encoded data removed]",
      "text/plain": [
       "<Figure size 720x720 with 9 Axes>"
      ]
     },
     "metadata": {
      "needs_background": "light"
     },
     "output_type": "display_data"
    }
   ],
   "source": [
    "#Retrieve a batch of images from the test set\n",
    "image_batch, label_batch = test_dataset.as_numpy_iterator().next()\n",
    "predictions = model.predict_on_batch(image_batch).flatten()\n",
    "\n",
    "# Apply a sigmoid since our model returns logits\n",
    "predictions = tf.nn.sigmoid(predictions)\n",
    "predictions = tf.where(predictions < 0.5, 0, 1)\n",
    "\n",
    "print('Predictions:\\n', predictions.numpy())\n",
    "print('Labels:\\n', label_batch)\n",
    "\n",
    "plt.figure(figsize=(10, 10))\n",
    "for i in range(9):\n",
    "  ax = plt.subplot(3, 3, i + 1)\n",
    "  plt.imshow(image_batch[i].astype(\"uint8\"))\n",
    "  plt.title(class_names[predictions[i]])\n",
    "  plt.axis(\"off\")"
   ]
  },
  {
   "cell_type": "markdown",
   "metadata": {
    "id": "_TZTwG7nhm0C"
   },
   "source": [
    "## Summary\n",
    "\n",
    "* **Using a pre-trained model for feature extraction**:  When working with a small dataset, it is a common practice to take advantage of features learned by a model trained on a larger dataset in the same domain. This is done by instantiating the pre-trained model and adding a fully-connected classifier on top. The pre-trained model is \"frozen\" and only the weights of the classifier get updated during training.\n",
    "In this case, the convolutional base extracted all the features associated with each image and you just trained a classifier that determines the image class given that set of extracted features.\n",
    "\n",
    "* **Fine-tuning a pre-trained model**: To further improve performance, one might want to repurpose the top-level layers of the pre-trained models to the new dataset via fine-tuning.\n",
    "In this case, you tuned your weights such that your model learned high-level features specific to the dataset. This technique is usually recommended when the training dataset is large and very similar to the original dataset that the pre-trained model was trained on.\n",
    "\n",
    "To learn more, visit the [Transfer learning guide](https://www.tensorflow.org/guide/keras/transfer_learning).\n"
   ]
  },
  {
   "cell_type": "code",
   "execution_count": null,
   "metadata": {},
   "outputs": [],
   "source": []
  },
  {
   "cell_type": "code",
   "execution_count": 37,
   "metadata": {},
   "outputs": [
    {
     "name": "stdout",
     "output_type": "stream",
     "text": [
      "/n/data1/hms/dbmi/park/simon_chu/projects/shared/toAntuan/machine_learning_training_data/validation/TP2_kids_first/FM_3K5A00G1_chr20_52280737_52280738_for_transfer_learning.png\n",
      "/n/data1/hms/dbmi/park/simon_chu/projects/shared/toAntuan/machine_learning_training_data/validation/TP2_kids_first/FM_YVS68TM9_chr22_28304307_28304308_for_transfer_learning.png\n",
      "/n/data1/hms/dbmi/park/simon_chu/projects/shared/toAntuan/machine_learning_training_data/validation/TP2_kids_first/FM_5PKA7B0T_chr6_7250370_7250371_for_transfer_learning.png\n",
      "/n/data1/hms/dbmi/park/simon_chu/projects/shared/toAntuan/machine_learning_training_data/validation/TP2_kids_first/FM_B50FJX4T_chr1_78643160_78643161_for_transfer_learning.png\n",
      "/n/data1/hms/dbmi/park/simon_chu/projects/shared/toAntuan/machine_learning_training_data/validation/TP2_kids_first/FM_D6Q58PRT_chr9_81870259_81870260_for_transfer_learning.png\n",
      "/n/data1/hms/dbmi/park/simon_chu/projects/shared/toAntuan/machine_learning_training_data/validation/TP2_kids_first/FM_17SPH3T8_chr6_1991026_1991027_for_transfer_learning.png\n",
      "/n/data1/hms/dbmi/park/simon_chu/projects/shared/toAntuan/machine_learning_training_data/validation/TP2_kids_first/FM_01DX7D9K_chr2_12433374_12433375_for_transfer_learning.png\n",
      "TPs 11\n",
      "FPs 7\n"
     ]
    }
   ],
   "source": [
    "# test with real TPs\n",
    "import glob\n",
    "from tensorflow.keras.preprocessing import image\n",
    "from tensorflow.keras.applications.resnet50 import preprocess_input, decode_predictions\n",
    "img_path = \"/n/data1/hms/dbmi/park/simon_chu/projects/shared/toAntuan/machine_learning_training_data/validation/TP2_kids_first/*\"\n",
    "\n",
    "imgs = glob.glob(img_path)\n",
    "tps=0\n",
    "fps=0\n",
    "for i in imgs:\n",
    "    img = image.load_img(i, target_size=(160, 160))\n",
    "    img_array = image.img_to_array(img)\n",
    "    img_batch = np.expand_dims(img_array, axis=0)\n",
    "    img_preprocessed = preprocess_input(img_batch)\n",
    "    prediction = model.predict(img_preprocessed)\n",
    "    predictions = tf.nn.sigmoid([prediction])\n",
    "    predictions = tf.where(predictions < 0.5, 0, 1)\n",
    "#     print(predictions.numpy()[0][0][0])\n",
    "    if predictions.numpy()[0][0][0] == 1: # 1 == TP prediction\n",
    "        tps += 1\n",
    "    else:\n",
    "        fps += 1\n",
    "        print(i)\n",
    "print(\"TPs \" + str(tps))\n",
    "print(\"FPs \" + str(fps))"
   ]
  },
  {
   "cell_type": "code",
   "execution_count": null,
   "metadata": {},
   "outputs": [],
   "source": []
  }
 ],
 "metadata": {
  "accelerator": "GPU",
  "colab": {
   "collapsed_sections": [],
   "name": "transfer_learning.ipynb",
   "toc_visible": true
  },
  "kernelspec": {
   "display_name": "Python 3",
   "language": "python",
   "name": "python3"
  },
  "language_info": {
   "codemirror_mode": {
    "name": "ipython",
    "version": 3
   },
   "file_extension": ".py",
   "mimetype": "text/x-python",
   "name": "python",
   "nbconvert_exporter": "python",
   "pygments_lexer": "ipython3",
   "version": "3.9.6"
  }
 },
 "nbformat": 4,
 "nbformat_minor": 1
}
